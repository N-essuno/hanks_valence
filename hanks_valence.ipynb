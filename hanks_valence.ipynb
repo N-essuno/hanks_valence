{
 "cells": [
  {
   "cell_type": "raw",
   "source": [],
   "metadata": {
    "collapsed": false
   },
   "id": "351a95eddae4ecdc"
  },
  {
   "cell_type": "markdown",
   "source": [
    "# Objective: Given a verb, a valence for the verb and a corpus, find the clusters of semantic type that fill the valence of the verb and return a probability distribution over the clusters."
   ],
   "metadata": {
    "collapsed": false
   },
   "id": "280bee4c43c5ecad"
  },
  {
   "cell_type": "markdown",
   "source": [
    "First of all let's extract sentences that contain the verb \"see\". We'll use nltk to extract the sentences."
   ],
   "metadata": {
    "collapsed": false
   },
   "id": "db5d152ba2de1f02"
  },
  {
   "cell_type": "code",
   "outputs": [
    {
     "name": "stdout",
     "output_type": "stream",
     "text": [
      "✔ Download and installation successful\n",
      "You can now load the package via spacy.load('en_core_web_sm')\n",
      "⚠ Restart to reload dependencies\n",
      "If you are in a Jupyter or Colab notebook, you may need to restart Python in\n",
      "order to load all the package's dependencies. You can do this by selecting the\n",
      "'Restart kernel' or 'Restart runtime' option.\n"
     ]
    },
    {
     "name": "stderr",
     "output_type": "stream",
     "text": [
      "[nltk_data] Downloading package brown to\n",
      "[nltk_data]     C:\\Users\\amato\\AppData\\Roaming\\nltk_data...\n",
      "[nltk_data]   Package brown is already up-to-date!\n"
     ]
    },
    {
     "data": {
      "text/plain": "True"
     },
     "execution_count": 17,
     "metadata": {},
     "output_type": "execute_result"
    }
   ],
   "source": [
    "import nltk\n",
    "from nltk.corpus import brown\n",
    "import spacy\n",
    "\n",
    "spacy.cli.download(\"en_core_web_sm\")\n",
    "nlp = spacy.load(\"en_core_web_sm\")\n",
    "nltk.download('brown')"
   ],
   "metadata": {
    "collapsed": false,
    "ExecuteTime": {
     "end_time": "2024-04-09T15:52:48.375147Z",
     "start_time": "2024-04-09T15:52:38.286507Z"
    }
   },
   "id": "66203575140650a2",
   "execution_count": 17
  },
  {
   "cell_type": "code",
   "outputs": [
    {
     "name": "stdout",
     "output_type": "stream",
     "text": [
      "[\"Barber , who is in his 13th year as a legislator , said there `` are some members of our congressional delegation in Washington who would like to see it ( the resolution ) passed '' .\", 'It does not take a Gallup poll to find out that most Republicans in Congress feel this understates the situation as Republicans see it .', \"He said , `` You can see signs of the Republicans' feeble attack on the Meyner administration .\", \"`` It's ' See Joe , see Jim ' '' , he says .\", 'Barnett , as the titular head of the Democratic party , apparently must make the move to reestablish relations with the national Democratic party or see a movement come from the loyalist ranks to completely bypass him as a party functionary .']\n"
     ]
    }
   ],
   "source": [
    "# Extract sentences that contain the verb \"see\"\n",
    "\n",
    "sentences_with_see = []\n",
    "\n",
    "# Search through the sentences in the Brown Corpus\n",
    "for sentence in brown.sents():\n",
    "    if \"see\" in sentence:\n",
    "        sentences_with_see.append(\" \".join(sentence))\n",
    "\n",
    "print(sentences_with_see[:5])"
   ],
   "metadata": {
    "collapsed": false,
    "ExecuteTime": {
     "end_time": "2024-04-09T15:49:12.826775Z",
     "start_time": "2024-04-09T15:49:07.229100Z"
    }
   },
   "id": "95854ff8b7b45750",
   "execution_count": 11
  },
  {
   "cell_type": "code",
   "outputs": [
    {
     "name": "stdout",
     "output_type": "stream",
     "text": [
      "Sentence: \"My dog sees the cat.\" - Subject: dog, Object: cat\n",
      "Sentence: \"You see him.\" - Subject: You, Object: him\n"
     ]
    }
   ],
   "source": [
    "def find_subject_object(sentence):\n",
    "    # Process the sentence\n",
    "    doc = nlp(sentence)\n",
    "    \n",
    "    for token in doc:\n",
    "        # Find the verb \"see\"\n",
    "        if token.lemma_ == \"see\":\n",
    "            subject = None\n",
    "            obj = None\n",
    "            \n",
    "            # Check if the token's head is our verb of interest\n",
    "            for child in token.children:\n",
    "                # Identify the subject\n",
    "                if child.dep_ in [\"nsubj\", \"nsubjpass\"]:\n",
    "                    subject = child.text\n",
    "                # Identify the object\n",
    "                elif child.dep_ in [\"dobj\", \"pobj\"]:\n",
    "                    obj = child.text\n",
    "            \n",
    "            return subject, obj\n",
    "\n",
    "    # Return None if the verb \"see\" is not found\n",
    "    return None, None\n",
    "\n",
    "# Example sentences\n",
    "sentences = [\"My dog sees the cat.\", \"You see him.\"]\n",
    "\n",
    "for sentence in sentences:\n",
    "    subject, obj = find_subject_object(sentence)\n",
    "    if subject and obj:\n",
    "        print(f\"Sentence: \\\"{sentence}\\\" - Subject: {subject}, Object: {obj}\")\n",
    "    else:\n",
    "        print(f\"Sentence: \\\"{sentence}\\\" does not contain the verb 'see' with a clear subject and object.\")"
   ],
   "metadata": {
    "collapsed": false,
    "ExecuteTime": {
     "end_time": "2024-04-09T15:53:12.639703Z",
     "start_time": "2024-04-09T15:53:12.572404Z"
    }
   },
   "id": "a2114ce132aa971c",
   "execution_count": 18
  },
  {
   "cell_type": "code",
   "outputs": [],
   "source": [
    "# Extract sentences that contain the verb \"see\"\n",
    "sub_obj_pairs = []\n",
    "\n",
    "for sentence in sentences_with_see:\n",
    "    sub, obj = find_subject_object(sentence)\n",
    "    if sub and obj:\n",
    "        sub_obj_pairs.append((sub, obj))"
   ],
   "metadata": {
    "collapsed": false,
    "ExecuteTime": {
     "end_time": "2024-04-09T15:59:48.044537Z",
     "start_time": "2024-04-09T15:59:36.416359Z"
    }
   },
   "id": "6f7a47231fa963f0",
   "execution_count": 24
  },
  {
   "cell_type": "code",
   "outputs": [
    {
     "name": "stdout",
     "output_type": "stream",
     "text": [
      "200\n",
      "('Republicans', 'it')\n",
      "('You', 'signs')\n",
      "('they', 'approach')\n",
      "('year', 'cleaning')\n",
      "('you', 'headline')\n"
     ]
    }
   ],
   "source": [
    "print(len(sub_obj_pairs))\n",
    "\n",
    "for pair in sub_obj_pairs[:5]:\n",
    "    print(pair)"
   ],
   "metadata": {
    "collapsed": false,
    "ExecuteTime": {
     "end_time": "2024-04-09T16:00:00.448840Z",
     "start_time": "2024-04-09T16:00:00.440257Z"
    }
   },
   "id": "e92b97e865e8097c",
   "execution_count": 25
  }
 ],
 "metadata": {
  "kernelspec": {
   "display_name": "Python 3",
   "language": "python",
   "name": "python3"
  },
  "language_info": {
   "codemirror_mode": {
    "name": "ipython",
    "version": 2
   },
   "file_extension": ".py",
   "mimetype": "text/x-python",
   "name": "python",
   "nbconvert_exporter": "python",
   "pygments_lexer": "ipython2",
   "version": "2.7.6"
  }
 },
 "nbformat": 4,
 "nbformat_minor": 5
}
