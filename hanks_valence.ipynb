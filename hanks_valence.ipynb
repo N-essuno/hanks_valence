{
 "cells": [
  {
   "cell_type": "markdown",
   "source": [
    "Objective: Given a **verb**, a **valence** for the verb and a **corpus**, find the clusters of semantic type that fill the valence of the verb and return a probability distribution over the clusters.\n",
    "\n",
    "We'll follow these steps:\n",
    "1. Load the sub-obj pairs\n",
    "2. Load the semantic types inventory\n",
    "3. For each word (subject or object) in the sub-obj pairs find the corresponding semantic types\n",
    "4. Create objects that hold sub-obj pairs and their number of occurrences"
   ],
   "metadata": {
    "collapsed": false
   },
   "id": "7a0b04906eb92af7"
  },
  {
   "cell_type": "code",
   "outputs": [
    {
     "name": "stderr",
     "output_type": "stream",
     "text": [
      "[nltk_data] Downloading package wordnet to\n",
      "[nltk_data]     C:\\Users\\Gianl\\AppData\\Roaming\\nltk_data...\n",
      "[nltk_data]   Package wordnet is already up-to-date!\n"
     ]
    },
    {
     "name": "stdout",
     "output_type": "stream",
     "text": [
      "\u001B[38;5;2m✔ Download and installation successful\u001B[0m\n",
      "You can now load the package via spacy.load('en_core_web_md')\n",
      "\u001B[38;5;3m⚠ Restart to reload dependencies\u001B[0m\n",
      "If you are in a Jupyter or Colab notebook, you may need to restart Python in\n",
      "order to load all the package's dependencies. You can do this by selecting the\n",
      "'Restart kernel' or 'Restart runtime' option.\n"
     ]
    }
   ],
   "source": [
    "# import libraries\n",
    "from typing import Tuple, Dict, List\n",
    "\n",
    "import pandas as pd\n",
    "import nltk\n",
    "from nltk.corpus import wordnet as wn\n",
    "from nltk.corpus.reader.wordnet import Synset\n",
    "import spacy\n",
    "\n",
    "nltk.download('wordnet')\n",
    "\n",
    "spacy.cli.download(\"en_core_web_md\")\n",
    "nlp = spacy.load(\"en_core_web_md\")"
   ],
   "metadata": {
    "collapsed": false,
    "ExecuteTime": {
     "end_time": "2024-04-10T16:05:26.238605700Z",
     "start_time": "2024-04-10T16:05:18.852986200Z"
    }
   },
   "id": "3183bffc4932d2e",
   "execution_count": 229
  },
  {
   "cell_type": "markdown",
   "source": [
    "## 1. Load the sub-obj pairs"
   ],
   "metadata": {
    "collapsed": false
   },
   "id": "9b9e08ca8106897a"
  },
  {
   "cell_type": "code",
   "outputs": [
    {
     "data": {
      "text/plain": "       subject       object\n0  Republicans           it\n1          You        signs\n2    Democrats  opportunity\n3        which     soldiers\n4         they     approach",
      "text/html": "<div>\n<style scoped>\n    .dataframe tbody tr th:only-of-type {\n        vertical-align: middle;\n    }\n\n    .dataframe tbody tr th {\n        vertical-align: top;\n    }\n\n    .dataframe thead th {\n        text-align: right;\n    }\n</style>\n<table border=\"1\" class=\"dataframe\">\n  <thead>\n    <tr style=\"text-align: right;\">\n      <th></th>\n      <th>subject</th>\n      <th>object</th>\n    </tr>\n  </thead>\n  <tbody>\n    <tr>\n      <th>0</th>\n      <td>Republicans</td>\n      <td>it</td>\n    </tr>\n    <tr>\n      <th>1</th>\n      <td>You</td>\n      <td>signs</td>\n    </tr>\n    <tr>\n      <th>2</th>\n      <td>Democrats</td>\n      <td>opportunity</td>\n    </tr>\n    <tr>\n      <th>3</th>\n      <td>which</td>\n      <td>soldiers</td>\n    </tr>\n    <tr>\n      <th>4</th>\n      <td>they</td>\n      <td>approach</td>\n    </tr>\n  </tbody>\n</table>\n</div>"
     },
     "execution_count": 230,
     "metadata": {},
     "output_type": "execute_result"
    }
   ],
   "source": [
    "# open dataframe\n",
    "df = pd.read_csv('res/see_sub_obj_pairs.csv')\n",
    "df.head()"
   ],
   "metadata": {
    "collapsed": false,
    "ExecuteTime": {
     "end_time": "2024-04-10T16:05:26.265658500Z",
     "start_time": "2024-04-10T16:05:26.242606Z"
    }
   },
   "id": "b699725054e5b08d",
   "execution_count": 230
  },
  {
   "cell_type": "markdown",
   "source": [
    "## 2. Load the semantic types inventory"
   ],
   "metadata": {
    "collapsed": false
   },
   "id": "f08b2992df6290e3"
  },
  {
   "cell_type": "code",
   "outputs": [
    {
     "name": "stdout",
     "output_type": "stream",
     "text": [
      "(8641944, 'n') GEOGRAPHY_AND_PLACES_\n",
      "(8950407, 'n') GEOGRAPHY_AND_PLACES_\n",
      "(4502851, 'n') WARFARE_DEFENSE_AND_VIOLENCE_\n",
      "(13742358, 'n') MATHEMATICS_\n",
      "(13742573, 'n') MATHEMATICS_\n",
      "(14930670, 'n') CHEMISTRY_AND_MINERALOGY_\n",
      "(475142, 'n') SPORT_GAMES_AND_RECREATION_\n",
      "(13746512, 'n') MATHEMATICS_\n",
      "(13750415, 'n') MATHEMATICS_\n",
      "(13750844, 'n') MATHEMATICS_\n",
      "(13751265, 'n') MATHEMATICS_\n"
     ]
    }
   ],
   "source": [
    "# holds a mapping (wordnet id, wordnet pos) -> semantic type\n",
    "wn_semantic_type_dict: Dict[Tuple[int, str], str] = {}\n",
    "\n",
    "# open semantic types inventory\n",
    "with open('res/st_inventory.txt', 'r') as f:\n",
    "    # shorter version\n",
    "    # wn_semantic_type_dict = {line.split('\\t')[0]: line.split('\\t')[1] for line in f.read().splitlines()[:10]}\n",
    "    \n",
    "    st_inventory = f.read().splitlines()\n",
    "    # Each line is like this: wn:08641944n\\tGEOGRAPHY_AND_PLACES_\n",
    "    for line in st_inventory:\n",
    "        l = line.split('\\t')\n",
    "        wn_id = l[0]\n",
    "        # separate id in the form wn:08641944n to [08641944, n]\n",
    "        wn_id_number, wn_id_pos = int(wn_id[3:-1]), wn_id[-1]\n",
    "        semantic_type = l[1]\n",
    "        wn_semantic_type_dict[(wn_id_number, wn_id_pos)] = semantic_type\n",
    "        \n",
    "# print first 10 entries\n",
    "for i, (wn_id, st) in enumerate(wn_semantic_type_dict.items()):\n",
    "    print(wn_id, st)\n",
    "    if i == 10:\n",
    "        break"
   ],
   "metadata": {
    "collapsed": false,
    "ExecuteTime": {
     "end_time": "2024-04-10T16:05:26.367608400Z",
     "start_time": "2024-04-10T16:05:26.259681900Z"
    }
   },
   "id": "c0345bf88a7bd8ee",
   "execution_count": 231
  },
  {
   "cell_type": "code",
   "execution_count": 232,
   "outputs": [
    {
     "name": "stdout",
     "output_type": "stream",
     "text": [
      "{'SPACE_AND_TOUCH_', 'LANGUAGE_AND_LINGUISTICS_', 'COMPUTING_', 'LIQUID_AND_GAS_', 'SPORT_GAMES_AND_RECREATION_', 'BUSINESS_ECONOMICS_AND_FINANCE_', 'FOOD_DRINK_AND_TASTE_', 'GEOLOGY_AND_GEOPHYSICS_', 'CULTURE_ANTHROPOLOGY_AND_SOCIETY_', 'ART_ARCHITECTURE_AND_ARCHAEOLOGY_', 'MATHEMATICS_', 'MUSIC_SOUND_AND_DANCING_', 'METEOROLOGY_', 'PHILOSOPHY_PSYCHOLOGY_AND_BEHAVIOR_', 'FISHING_AND_HUNTING_', 'CRAFT_ENGINEERING_AND_TECHNOLOGY_', 'POLITICS_GOVERNMENT_AND_NOBILITY_', 'EMOTIONS_', 'EVALUATION_', 'ENVIRONMENT_', 'WARFARE_DEFENSE_AND_VIOLENCE_', 'BIOLOGY_', 'TIME_', 'RELIGION_MYSTICISM_AND_MYTHOLOGY_', 'GEOGRAPHY_AND_PLACES_', 'NUMISMATICS_AND_CURRENCIES_', 'COMMUNICATION_AND_TELECOMMUNICATION_', 'SEX_', 'CHEMISTRY_AND_MINERALOGY_', 'MEDIA_', 'TEXTILE_FASHION_AND_CLOTHING_', 'GENERAL_', 'LAW_AND_CRIME_', 'OLFACTORY_', 'VISUAL_', 'LITERATURE_AND_THEATRE_', 'FARMING_', 'HEALTH_AND_MEDICINE_', 'NAUTICAL_', 'CHORES_AND_ROUTINE_', 'PHYSICS_AND_ASTRONOMY_', 'EDUCATION_AND_SCIENCE_', 'TRANSPORT_AND_TRAVEL_', 'POSSESSION_', 'HISTORY_'}\n"
     ]
    }
   ],
   "source": [
    "# print semantic types as a set\n",
    "print(set(wn_semantic_type_dict.values()))"
   ],
   "metadata": {
    "collapsed": false,
    "ExecuteTime": {
     "end_time": "2024-04-10T16:05:26.411623100Z",
     "start_time": "2024-04-10T16:05:26.367608400Z"
    }
   },
   "id": "96e11ae691c3906b"
  },
  {
   "cell_type": "code",
   "outputs": [
    {
     "name": "stdout",
     "output_type": "stream",
     "text": [
      "Synset(''hood.n.01')\n",
      "Synset('the_hague.n.01')\n",
      "Synset('twenty-two.n.02')\n",
      "Synset('zero.n.02')\n",
      "Synset('one.n.01')\n",
      "Synset('lauryl_alcohol.n.01')\n",
      "Synset('one-hitter.n.01')\n",
      "Synset('ten.n.01')\n",
      "Synset('hundred.n.01')\n",
      "Synset('thousand.n.01')\n"
     ]
    }
   ],
   "source": [
    "# retrieve wordnet synset from wordnet id\n",
    "def get_synset_from_id(wn_id: Tuple[int, str]) -> Synset:\n",
    "    \"\"\"\n",
    "    Given a wordnet id (id, pos), return the corresponding synset\n",
    "    \"\"\"\n",
    "    return wn.synset_from_pos_and_offset(wn_id[1], wn_id[0])\n",
    "\n",
    "# print first 10 synsets\n",
    "for wn_id in list(wn_semantic_type_dict.keys())[:10]:\n",
    "    print(get_synset_from_id(wn_id))"
   ],
   "metadata": {
    "collapsed": false,
    "ExecuteTime": {
     "end_time": "2024-04-10T16:05:26.455604900Z",
     "start_time": "2024-04-10T16:05:26.382606Z"
    }
   },
   "id": "b87454d41f7374c0",
   "execution_count": 233
  },
  {
   "cell_type": "code",
   "outputs": [],
   "source": [
    "# save list of synsets available\n",
    "synset_list: List[Synset] = []\n",
    "living_entity_pronouns = [\"I\", \"you\", \"he\", \"she\", \"we\", \"they\", \"me\", \"you\", \"him\", \"her\", \"us\", \"them\"]\n",
    "object_pronouns = [\"it\"]\n",
    "\n",
    "for wn_id in list(wn_semantic_type_dict.keys()):\n",
    "    synset_list.append(get_synset_from_id(wn_id))"
   ],
   "metadata": {
    "collapsed": false,
    "ExecuteTime": {
     "end_time": "2024-04-10T16:05:26.473605900Z",
     "start_time": "2024-04-10T16:05:26.395605700Z"
    }
   },
   "id": "fb6fe5a3658fa356",
   "execution_count": 234
  },
  {
   "cell_type": "code",
   "outputs": [],
   "source": [
    "# for each word in the sub-obj pairs, find all their synsets\n",
    "word_sem_type_dict: Dict[str, List[str]] = {}\n",
    "lemmatizer = nltk.WordNetLemmatizer()\n",
    "\n",
    "def get_common_nouns_sem_types(word) -> List[str]:\n",
    "    \"\"\"\n",
    "    Given a word, retrieve all the synsets from st_inventory where the word is included, and return the corresponding semantic types\n",
    "    \"\"\"\n",
    "    sem_types = []\n",
    "    \n",
    "    for synset in synset_list: # iterate synsets in the st_inventory\n",
    "        if word in synset.lemma_names(): # if the word is in the synset\n",
    "            # get the sem type from st inventory corresponding to the synset (identified by offset, pos)\n",
    "            sem_type = wn_semantic_type_dict[(synset.offset(), synset.pos())]\n",
    "            sem_types.append(sem_type)\n",
    "    \n",
    "    return sem_types"
   ],
   "metadata": {
    "collapsed": false,
    "ExecuteTime": {
     "end_time": "2024-04-10T16:05:26.474612400Z",
     "start_time": "2024-04-10T16:05:26.461610400Z"
    }
   },
   "id": "cbf67710233c7e46",
   "execution_count": 235
  },
  {
   "cell_type": "code",
   "execution_count": 236,
   "outputs": [],
   "source": [
    "def get_pronoun_sem_types(pronoun: str) -> List[str]:\n",
    "    \"\"\"\n",
    "    Given a pronoun, return the semantic types of the pronoun\n",
    "    \"\"\"\n",
    "    if pronoun in living_entity_pronouns:\n",
    "        return [\"LIVING_ENTITY_\"]\n",
    "    elif pronoun in object_pronouns:\n",
    "        return [\"OBJECT_\"]"
   ],
   "metadata": {
    "collapsed": false,
    "ExecuteTime": {
     "end_time": "2024-04-10T16:05:26.515610700Z",
     "start_time": "2024-04-10T16:05:26.474612400Z"
    }
   },
   "id": "b137cc54d47d0a4a"
  },
  {
   "cell_type": "code",
   "execution_count": 237,
   "outputs": [],
   "source": [
    "def ner_single_word(word):\n",
    "    # Process the word with spaCy\n",
    "    doc = nlp(word)\n",
    "    # Return the entity type if available\n",
    "    return [(ent.text, ent.label_) for ent in doc.ents]\n",
    "\n",
    "def get_named_entity_sem_types(named_entities) -> List[str]:\n",
    "    \"\"\"\n",
    "    Given a named entity, return the semantic types of the named entity\n",
    "    \"\"\"\n",
    "    # Retrieve the entity type if available\n",
    "    for ent in named_entities:\n",
    "        sem_type = ent[1]\n",
    "        if sem_type == \"ORG\":\n",
    "            return [\"ORGANIZATION_\"]\n",
    "        elif sem_type == \"GPE\":\n",
    "            return [\"GEOGRAPHY_AND_PLACES_\"]\n",
    "        elif sem_type == \"NORP\":\n",
    "            return [\"NATIONALITIES_OR_RELIGIONS_OR_POLITICAL_GROUPS_\"]\n",
    "        else:\n",
    "            return [sem_type]"
   ],
   "metadata": {
    "collapsed": false,
    "ExecuteTime": {
     "end_time": "2024-04-10T16:05:26.520623600Z",
     "start_time": "2024-04-10T16:05:26.491606300Z"
    }
   },
   "id": "e70fdba3c388abb3"
  },
  {
   "cell_type": "code",
   "execution_count": 238,
   "outputs": [],
   "source": [
    "def select_most_freq_sem_type(sem_types: List[str], n: int):\n",
    "    \"\"\"\n",
    "    Given a list of semantic types, select the n most frequent semantic types\n",
    "    \"\"\"\n",
    "    sem_type_freq = {}\n",
    "    \n",
    "    for sem_type in sem_types:\n",
    "        if sem_type in sem_type_freq:\n",
    "            sem_type_freq[sem_type] += 1\n",
    "        else:\n",
    "            sem_type_freq[sem_type] = 1\n",
    "    \n",
    "    # sort the semantic types by frequency, uses the frequency as the key\n",
    "    sorted_sem_type_freq = sorted(sem_type_freq.items(), key=lambda x: x[1], reverse=True)\n",
    "    # takes the first n semantic types from the sorted list\n",
    "    return [sem_type for sem_type, freq in sorted_sem_type_freq[:n]]"
   ],
   "metadata": {
    "collapsed": false,
    "ExecuteTime": {
     "end_time": "2024-04-10T16:05:26.522615400Z",
     "start_time": "2024-04-10T16:05:26.505605600Z"
    }
   },
   "id": "69d99112bf0900fd"
  },
  {
   "cell_type": "code",
   "execution_count": 239,
   "outputs": [],
   "source": [
    "unkonwn_words = set()\n",
    "\n",
    "def manage_word(word: str):\n",
    "    lemmatized_word = lemmatizer.lemmatize(word)\n",
    "\n",
    "    if lemmatized_word not in word_sem_type_dict: # if the word is not already in the dictionary\n",
    "        sem_type_found = False # flag to check if we can stop searching for semantic types\n",
    "        sem_types = []\n",
    "        \n",
    "        # if the word is a pronoun\n",
    "        if word.lower() in living_entity_pronouns + object_pronouns:\n",
    "            sem_types = get_pronoun_sem_types(word.lower())\n",
    "            sem_type_found = True\n",
    "        \n",
    "        named_entities = ner_single_word(word)\n",
    "        if not sem_type_found and named_entities:\n",
    "            sem_types = get_named_entity_sem_types(named_entities)\n",
    "        elif not sem_type_found:\n",
    "            sem_types = get_common_nouns_sem_types(lemmatized_word)\n",
    "        \n",
    "        if sem_types:\n",
    "            frequent_sem_types = select_most_freq_sem_type(sem_types, 2)\n",
    "            word_sem_type_dict[lemmatized_word] = frequent_sem_types\n",
    "        else:\n",
    "            unkonwn_words.add(word)"
   ],
   "metadata": {
    "collapsed": false,
    "ExecuteTime": {
     "end_time": "2024-04-10T16:05:26.537606Z",
     "start_time": "2024-04-10T16:05:26.523606300Z"
    }
   },
   "id": "452b01e462cf5561"
  },
  {
   "cell_type": "code",
   "execution_count": 240,
   "outputs": [],
   "source": [
    "for i, row in df.iterrows():\n",
    "    sub: str = row['subject']\n",
    "    obj: str = row['object']\n",
    "    \n",
    "    manage_word(sub)\n",
    "    manage_word(obj)"
   ],
   "metadata": {
    "collapsed": false,
    "ExecuteTime": {
     "end_time": "2024-04-10T16:05:35.521605600Z",
     "start_time": "2024-04-10T16:05:26.537606Z"
    }
   },
   "id": "7f2afc438df8921"
  },
  {
   "cell_type": "code",
   "execution_count": 241,
   "outputs": [
    {
     "name": "stdout",
     "output_type": "stream",
     "text": [
      "{'Hippodrome', 'which', 'Paree', 'Clerfayt', 'Poet', 'anyone', 'Helva', 'Seigner', 'anything', 'Juanita', 'Gun', \"'s\", 'Secretary', 'hovering', 'Prevot', 'circling', 'Some', 'Most', 'himself', 'something', 'Analysts', 'Crumb', 'that', 'Woman', 'realtor', 'Sparling', 'any', 'itself', 'oneself', 'Kaisers', 'who', 'others', 'Fountain', 'what', 'Ulyate', 'Rector', 'inscription', 'whatever', 'Negroes', 'Pieta', 'Littlepage', 'Bird', 'What', 'Teachers', 'whom', 'inculcation', 'Guardino', 'Grabski', 'Investors', 'Plains', 'themselves', 'Cousin'}\n"
     ]
    }
   ],
   "source": [
    "# print unknown words\n",
    "print(unkonwn_words)"
   ],
   "metadata": {
    "collapsed": false,
    "ExecuteTime": {
     "end_time": "2024-04-10T16:05:35.547610200Z",
     "start_time": "2024-04-10T16:05:35.522621400Z"
    }
   },
   "id": "3a5b762940841bd6"
  },
  {
   "cell_type": "code",
   "outputs": [
    {
     "name": "stdout",
     "output_type": "stream",
     "text": [
      "Republicans ['NATIONALITIES_OR_RELIGIONS_OR_POLITICAL_GROUPS_']\n",
      "it ['OBJECT_']\n",
      "You ['LIVING_ENTITY_']\n",
      "sign ['LANGUAGE_AND_LINGUISTICS_', 'RELIGION_MYSTICISM_AND_MYTHOLOGY_']\n",
      "Democrats ['NATIONALITIES_OR_RELIGIONS_OR_POLITICAL_GROUPS_']\n",
      "opportunity ['GENERAL_']\n",
      "soldier ['WARFARE_DEFENSE_AND_VIOLENCE_', 'BIOLOGY_']\n",
      "they ['LIVING_ENTITY_']\n",
      "approach ['SEX_', 'PHILOSOPHY_PSYCHOLOGY_AND_BEHAVIOR_']\n",
      "year ['HISTORY_', 'TIME_']\n",
      "cleaning ['CULTURE_ANTHROPOLOGY_AND_SOCIETY_']\n",
      "you ['LIVING_ENTITY_']\n",
      "headline ['MEDIA_']\n",
      "player ['BUSINESS_ECONOMICS_AND_FINANCE_', 'MUSIC_SOUND_AND_DANCING_']\n",
      "film ['MEDIA_', 'VISUAL_']\n",
      "sight ['VISUAL_', 'PHILOSOPHY_PSYCHOLOGY_AND_BEHAVIOR_']\n",
      "I ['MATHEMATICS_', 'CHEMISTRY_AND_MINERALOGY_']\n",
      "move ['SPACE_AND_TOUCH_', 'PHILOSOPHY_PSYCHOLOGY_AND_BEHAVIOR_']\n",
      "Don ['PERSON']\n",
      "chum ['CULTURE_ANTHROPOLOGY_AND_SOCIETY_', 'FISHING_AND_HUNTING_']\n",
      "Kennedy ['PERSON']\n",
      "value ['PHILOSOPHY_PSYCHOLOGY_AND_BEHAVIOR_', 'MATHEMATICS_']\n",
      "we ['LIVING_ENTITY_']\n",
      "member ['POLITICS_GOVERNMENT_AND_NOBILITY_', 'BIOLOGY_']\n",
      "he ['LIVING_ENTITY_']\n",
      "chance ['GENERAL_', 'MATHEMATICS_']\n",
      "element ['PHYSICS_AND_ASTRONOMY_', 'CRAFT_ENGINEERING_AND_TECHNOLOGY_']\n",
      "settler ['BUSINESS_ECONOMICS_AND_FINANCE_', 'WARFARE_DEFENSE_AND_VIOLENCE_']\n",
      "them ['LIVING_ENTITY_']\n",
      "regime ['POLITICS_GOVERNMENT_AND_NOBILITY_', 'FOOD_DRINK_AND_TASTE_']\n",
      "problem ['EVALUATION_', 'EDUCATION_AND_SCIENCE_']\n",
      "justice ['BUSINESS_ECONOMICS_AND_FINANCE_', 'PHILOSOPHY_PSYCHOLOGY_AND_BEHAVIOR_']\n",
      "land ['GEOGRAPHY_AND_PLACES_', 'FARMING_']\n",
      "upturn ['BUSINESS_ECONOMICS_AND_FINANCE_']\n",
      "He ['LIVING_ENTITY_']\n",
      "plan ['GENERAL_', 'PHILOSOPHY_PSYCHOLOGY_AND_BEHAVIOR_']\n",
      "Podger ['PERSON']\n",
      "feather ['BIOLOGY_', 'SPORT_GAMES_AND_RECREATION_']\n",
      "driver ['SPORT_GAMES_AND_RECREATION_', 'COMPUTING_']\n",
      "turtle ['TEXTILE_FASHION_AND_CLOTHING_', 'BIOLOGY_']\n",
      "eye ['SPACE_AND_TOUCH_', 'BIOLOGY_']\n",
      "convict ['LAW_AND_CRIME_', 'LANGUAGE_AND_LINGUISTICS_']\n",
      "public ['POLITICS_GOVERNMENT_AND_NOBILITY_', 'CULTURE_ANTHROPOLOGY_AND_SOCIETY_']\n",
      "wagon ['TRANSPORT_AND_TRAVEL_', 'LAW_AND_CRIME_']\n",
      "majority ['MATHEMATICS_', 'LAW_AND_CRIME_']\n",
      "party ['SPORT_GAMES_AND_RECREATION_', 'CULTURE_ANTHROPOLOGY_AND_SOCIETY_']\n",
      "situation ['GENERAL_', 'BUSINESS_ECONOMICS_AND_FINANCE_']\n",
      "John ['PERSON']\n",
      "renewal ['FARMING_']\n",
      "world ['POLITICS_GOVERNMENT_AND_NOBILITY_', 'PHYSICS_AND_ASTRONOMY_']\n",
      "Catholicism ['RELIGION_MYSTICISM_AND_MYTHOLOGY_']\n",
      "relation ['CULTURE_ANTHROPOLOGY_AND_SOCIETY_', 'SEX_']\n",
      "We ['LIVING_ENTITY_']\n",
      "nation ['GEOGRAPHY_AND_PLACES_', 'POLITICS_GOVERNMENT_AND_NOBILITY_']\n",
      "mention ['LANGUAGE_AND_LINGUISTICS_', 'EDUCATION_AND_SCIENCE_']\n",
      "enough ['GENERAL_', 'MATHEMATICS_']\n",
      "Chicago ['GEOGRAPHY_AND_PLACES_']\n",
      "Ballet ['ORGANIZATION_']\n",
      "Russians ['NATIONALITIES_OR_RELIGIONS_OR_POLITICAL_GROUPS_']\n",
      "vitality ['BIOLOGY_', 'EMOTIONS_']\n",
      "Fiorello ['PERSON']\n",
      "picture ['VISUAL_', 'MEDIA_']\n",
      "Low ['MEDIA_']\n",
      "stupidity ['PHILOSOPHY_PSYCHOLOGY_AND_BEHAVIOR_']\n",
      "tendency ['PHILOSOPHY_PSYCHOLOGY_AND_BEHAVIOR_', 'GENERAL_']\n",
      "Jouvet ['PERSON']\n",
      "him ['LIVING_ENTITY_']\n",
      "flower ['BIOLOGY_', 'FARMING_']\n",
      "indoors ['SPACE_AND_TOUCH_']\n",
      "volcano ['GEOLOGY_AND_GEOPHYSICS_']\n",
      "face ['BIOLOGY_', 'SPACE_AND_TOUCH_']\n",
      "expression ['LANGUAGE_AND_LINGUISTICS_', 'BIOLOGY_']\n",
      "Newman ['ORGANIZATION_']\n",
      "liberalism ['POLITICS_GOVERNMENT_AND_NOBILITY_', 'BUSINESS_ECONOMICS_AND_FINANCE_']\n",
      "charge ['LAW_AND_CRIME_', 'BUSINESS_ECONOMICS_AND_FINANCE_']\n",
      "father ['CULTURE_ANTHROPOLOGY_AND_SOCIETY_', 'LAW_AND_CRIME_']\n",
      "concurrence ['HISTORY_', 'CULTURE_ANTHROPOLOGY_AND_SOCIETY_']\n",
      "man ['BIOLOGY_', 'WARFARE_DEFENSE_AND_VIOLENCE_']\n",
      "death ['EVALUATION_', 'BIOLOGY_']\n",
      "Irenaeus ['RELIGION_MYSTICISM_AND_MYTHOLOGY_']\n",
      "parallel ['CHEMISTRY_AND_MINERALOGY_', 'GEOGRAPHY_AND_PLACES_']\n",
      "point ['SPACE_AND_TOUCH_', 'GENERAL_']\n",
      "proportion ['MATHEMATICS_']\n",
      "revivalism ['RELIGION_MYSTICISM_AND_MYTHOLOGY_']\n",
      "unity ['MATHEMATICS_']\n",
      "Shan ['LANGUAGE_AND_LINGUISTICS_']\n",
      "monk ['RELIGION_MYSTICISM_AND_MYTHOLOGY_']\n",
      "God ['RELIGION_MYSTICISM_AND_MYTHOLOGY_']\n",
      "light ['PHYSICS_AND_ASTRONOMY_', 'VISUAL_']\n",
      "kingdom ['POLITICS_GOVERNMENT_AND_NOBILITY_', 'GENERAL_']\n",
      "power ['BUSINESS_ECONOMICS_AND_FINANCE_', 'PHILOSOPHY_PSYCHOLOGY_AND_BEHAVIOR_']\n",
      "Caper ['GEOGRAPHY_AND_PLACES_']\n",
      "filly ['BIOLOGY_']\n",
      "1961 ['DATE']\n",
      "change ['GENERAL_', 'NUMISMATICS_AND_CURRENCIES_']\n",
      "one ['CARDINAL']\n",
      "spire ['PERSON']\n",
      "spot ['BUSINESS_ECONOMICS_AND_FINANCE_', 'SPACE_AND_TOUCH_']\n",
      "spring ['PHYSICS_AND_ASTRONOMY_', 'SPACE_AND_TOUCH_']\n",
      "defection ['PHILOSOPHY_PSYCHOLOGY_AND_BEHAVIOR_', 'RELIGION_MYSTICISM_AND_MYTHOLOGY_']\n",
      "They ['LIVING_ENTITY_']\n",
      "men ['BUSINESS_ECONOMICS_AND_FINANCE_']\n",
      "pressure ['PHYSICS_AND_ASTRONOMY_', 'HEALTH_AND_MEDICINE_']\n",
      "variety ['GENERAL_', 'BIOLOGY_']\n",
      "display ['GENERAL_', 'EMOTIONS_']\n",
      "Americans ['NATIONALITIES_OR_RELIGIONS_OR_POLITICAL_GROUPS_']\n",
      "more ['MATHEMATICS_', 'GENERAL_']\n",
      "piazza ['GEOGRAPHY_AND_PLACES_']\n",
      "silhouette ['ART_ARCHITECTURE_AND_ARCHAEOLOGY_']\n",
      "necessity ['GENERAL_']\n",
      "some ['MATHEMATICS_']\n",
      "darkness ['VISUAL_', 'WARFARE_DEFENSE_AND_VIOLENCE_']\n",
      "needle ['BIOLOGY_', 'CRAFT_ENGINEERING_AND_TECHNOLOGY_']\n",
      "crusader ['PHILOSOPHY_PSYCHOLOGY_AND_BEHAVIOR_']\n",
      "threat ['PHILOSOPHY_PSYCHOLOGY_AND_BEHAVIOR_', 'EVALUATION_']\n",
      "police ['LAW_AND_CRIME_']\n",
      "her ['LIVING_ENTITY_']\n",
      "orthodontist ['HEALTH_AND_MEDICINE_']\n",
      "child ['BIOLOGY_', 'PHILOSOPHY_PSYCHOLOGY_AND_BEHAVIOR_']\n",
      "Pemberton ['PERSON']\n",
      "Reno ['GEOGRAPHY_AND_PLACES_']\n",
      "hole ['GENERAL_', 'SPORT_GAMES_AND_RECREATION_']\n",
      "half ['CARDINAL']\n",
      "she ['LIVING_ENTITY_']\n",
      "Morse ['LANGUAGE_AND_LINGUISTICS_', 'ART_ARCHITECTURE_AND_ARCHAEOLOGY_']\n",
      "niece ['BIOLOGY_']\n",
      "circle ['SPACE_AND_TOUCH_', 'CULTURE_ANTHROPOLOGY_AND_SOCIETY_']\n",
      "dog ['CRAFT_ENGINEERING_AND_TECHNOLOGY_', 'PHILOSOPHY_PSYCHOLOGY_AND_BEHAVIOR_']\n",
      "movement ['SPACE_AND_TOUCH_', 'POLITICS_GOVERNMENT_AND_NOBILITY_']\n",
      "congregation ['RELIGION_MYSTICISM_AND_MYTHOLOGY_', 'CULTURE_ANTHROPOLOGY_AND_SOCIETY_']\n",
      "name ['POLITICS_GOVERNMENT_AND_NOBILITY_', 'LANGUAGE_AND_LINGUISTICS_']\n",
      "little ['MATHEMATICS_', 'BIOLOGY_']\n",
      "garden ['ART_ARCHITECTURE_AND_ARCHAEOLOGY_', 'FARMING_']\n",
      "Southerners ['NATIONALITIES_OR_RELIGIONS_OR_POLITICAL_GROUPS_']\n",
      "hope ['PHILOSOPHY_PSYCHOLOGY_AND_BEHAVIOR_', 'RELIGION_MYSTICISM_AND_MYTHOLOGY_']\n",
      "Kyoto ['GEOGRAPHY_AND_PLACES_']\n",
      "ceremony ['CULTURE_ANTHROPOLOGY_AND_SOCIETY_']\n",
      "recovery ['HEALTH_AND_MEDICINE_', 'EVALUATION_']\n",
      "traveler ['TRANSPORT_AND_TRAVEL_']\n",
      "opponent ['GENERAL_', 'SPORT_GAMES_AND_RECREATION_']\n",
      "sort ['GENERAL_', 'EDUCATION_AND_SCIENCE_']\n",
      "Beckett ['PERSON']\n",
      "much ['MATHEMATICS_', 'GENERAL_']\n",
      "chrysanthemum ['PERSON']\n",
      "reflection ['MATHEMATICS_', 'PHYSICS_AND_ASTRONOMY_']\n",
      "Sweden ['GEOGRAPHY_AND_PLACES_']\n",
      "piece ['GENERAL_', 'MUSIC_SOUND_AND_DANCING_']\n",
      "characteristic ['GENERAL_', 'MATHEMATICS_']\n",
      "Jew ['RELIGION_MYSTICISM_AND_MYTHOLOGY_']\n",
      "incest ['CULTURE_ANTHROPOLOGY_AND_SOCIETY_']\n",
      "heroic ['LITERATURE_AND_THEATRE_']\n",
      "Thorpe ['PERSON']\n",
      "hardship ['EMOTIONS_', 'METEOROLOGY_']\n",
      "piano ['MUSIC_SOUND_AND_DANCING_']\n",
      "One ['CARDINAL']\n",
      "u ['LIVING_ENTITY_']\n",
      "Calcutta ['GEOGRAPHY_AND_PLACES_']\n",
      "staff ['EDUCATION_AND_SCIENCE_', 'BUSINESS_ECONOMICS_AND_FINANCE_']\n",
      "nickname ['LANGUAGE_AND_LINGUISTICS_', 'CULTURE_ANTHROPOLOGY_AND_SOCIETY_']\n",
      "Hearst ['ORGANIZATION_']\n",
      "wife ['CULTURE_ANTHROPOLOGY_AND_SOCIETY_']\n",
      "money ['MATHEMATICS_', 'NUMISMATICS_AND_CURRENCIES_']\n",
      "fit ['GENERAL_', 'PHILOSOPHY_PSYCHOLOGY_AND_BEHAVIOR_']\n",
      "age ['HISTORY_', 'POLITICS_GOVERNMENT_AND_NOBILITY_']\n",
      "tree ['BIOLOGY_', 'MATHEMATICS_']\n",
      "reason ['PHILOSOPHY_PSYCHOLOGY_AND_BEHAVIOR_', 'EDUCATION_AND_SCIENCE_']\n",
      "action ['GENERAL_', 'LAW_AND_CRIME_']\n",
      "evening ['TIME']\n",
      "banquet ['FOOD_DRINK_AND_TASTE_']\n",
      "Suvorov ['PERSON']\n",
      "unit ['MATHEMATICS_', 'CULTURE_ANTHROPOLOGY_AND_SOCIETY_']\n",
      "bench ['CRAFT_ENGINEERING_AND_TECHNOLOGY_', 'LAW_AND_CRIME_']\n",
      "departure ['SPACE_AND_TOUCH_', 'HEALTH_AND_MEDICINE_']\n",
      "lot ['GENERAL_', 'MATHEMATICS_']\n",
      "anchor ['NAUTICAL_', 'MEDIA_']\n",
      "Clark ['PERSON']\n",
      "difference ['CULTURE_ANTHROPOLOGY_AND_SOCIETY_', 'SPACE_AND_TOUCH_']\n",
      "Melville ['PERSON']\n",
      "Sedgwick ['PERSON']\n",
      "Stidger ['NATIONALITIES_OR_RELIGIONS_OR_POLITICAL_GROUPS_']\n",
      "sheet ['TEXTILE_FASHION_AND_CLOTHING_', 'TRANSPORT_AND_TRAVEL_']\n",
      "vision ['PHILOSOPHY_PSYCHOLOGY_AND_BEHAVIOR_', 'VISUAL_']\n",
      "distance ['SPACE_AND_TOUCH_', 'TIME_']\n",
      "narrator ['MEDIA_']\n",
      "Berto ['PERSON']\n",
      "pride ['EMOTIONS_', 'PHILOSOPHY_PSYCHOLOGY_AND_BEHAVIOR_']\n",
      "way ['SPACE_AND_TOUCH_', 'GENERAL_']\n",
      "detail ['GENERAL_', 'WARFARE_DEFENSE_AND_VIOLENCE_']\n",
      "inset ['TEXTILE_FASHION_AND_CLOTHING_', 'ART_ARCHITECTURE_AND_ARCHAEOLOGY_']\n",
      "Gibbs ['PERSON']\n",
      "illustration ['ART_ARCHITECTURE_AND_ARCHAEOLOGY_', 'PHILOSOPHY_PSYCHOLOGY_AND_BEHAVIOR_']\n",
      "Brown ['BIOLOGY_', 'POLITICS_GOVERNMENT_AND_NOBILITY_']\n",
      "tool ['HEALTH_AND_MEDICINE_', 'BUSINESS_ECONOMICS_AND_FINANCE_']\n",
      "commute ['TRANSPORT_AND_TRAVEL_', 'MATHEMATICS_']\n",
      "desk ['CULTURE_ANTHROPOLOGY_AND_SOCIETY_']\n",
      "Granny ['PERSON']\n",
      "prospect ['GEOGRAPHY_AND_PLACES_', 'BUSINESS_ECONOMICS_AND_FINANCE_']\n",
      "education ['EDUCATION_AND_SCIENCE_', 'BUSINESS_ECONOMICS_AND_FINANCE_']\n",
      "figure ['MATHEMATICS_', 'PHILOSOPHY_PSYCHOLOGY_AND_BEHAVIOR_']\n",
      "thing ['GENERAL_', 'RELIGION_MYSTICISM_AND_MYTHOLOGY_']\n",
      "corner ['SPACE_AND_TOUCH_', 'ART_ARCHITECTURE_AND_ARCHAEOLOGY_']\n",
      "body ['BIOLOGY_', 'PHYSICS_AND_ASTRONOMY_']\n",
      "disadvantage ['EVALUATION_']\n",
      "rendering ['LITERATURE_AND_THEATRE_', 'ART_ARCHITECTURE_AND_ARCHAEOLOGY_']\n",
      "many ['MATHEMATICS_']\n",
      "indication ['HEALTH_AND_MEDICINE_', 'GENERAL_']\n",
      "company ['CULTURE_ANTHROPOLOGY_AND_SOCIETY_', 'WARFARE_DEFENSE_AND_VIOLENCE_']\n",
      "possibility ['GENERAL_', 'EDUCATION_AND_SCIENCE_']\n",
      "axis ['BIOLOGY_', 'POLITICS_GOVERNMENT_AND_NOBILITY_']\n",
      "component ['CRAFT_ENGINEERING_AND_TECHNOLOGY_', 'MATHEMATICS_']\n",
      "life ['BIOLOGY_', 'PHILOSOPHY_PSYCHOLOGY_AND_BEHAVIOR_']\n",
      "band ['TEXTILE_FASHION_AND_CLOTHING_', 'MUSIC_SOUND_AND_DANCING_']\n",
      "amount ['MATHEMATICS_', 'GENERAL_']\n",
      "Stevie ['PERSON']\n",
      "idol ['PHILOSOPHY_PSYCHOLOGY_AND_BEHAVIOR_', 'RELIGION_MYSTICISM_AND_MYTHOLOGY_']\n",
      "militia ['WARFARE_DEFENSE_AND_VIOLENCE_']\n",
      "gesture ['CULTURE_ANTHROPOLOGY_AND_SOCIETY_', 'PHILOSOPHY_PSYCHOLOGY_AND_BEHAVIOR_']\n",
      "grandeur ['EVALUATION_']\n",
      "fireplace ['ART_ARCHITECTURE_AND_ARCHAEOLOGY_']\n",
      "pair ['GENERAL_', 'MATHEMATICS_']\n",
      "nothing ['MATHEMATICS_']\n",
      "dot ['CHEMISTRY_AND_MINERALOGY_', 'COMMUNICATION_AND_TELECOMMUNICATION_']\n",
      "Joel ['RELIGION_MYSTICISM_AND_MYTHOLOGY_']\n",
      "David ['PERSON']\n",
      "hawk ['BIOLOGY_', 'POLITICS_GOVERNMENT_AND_NOBILITY_']\n",
      "wedge ['CRAFT_ENGINEERING_AND_TECHNOLOGY_', 'FOOD_DRINK_AND_TASTE_']\n",
      "portion ['MATHEMATICS_', 'GENERAL_']\n",
      "convert ['RELIGION_MYSTICISM_AND_MYTHOLOGY_', 'GENERAL_']\n",
      "charity ['CULTURE_ANTHROPOLOGY_AND_SOCIETY_', 'BIOLOGY_']\n",
      "roof ['BUSINESS_ECONOMICS_AND_FINANCE_', 'ART_ARCHITECTURE_AND_ARCHAEOLOGY_']\n",
      "stroke ['SPORT_GAMES_AND_RECREATION_', 'HEALTH_AND_MEDICINE_']\n",
      "Abel ['MATHEMATICS_', 'RELIGION_MYSTICISM_AND_MYTHOLOGY_']\n",
      "house ['ART_ARCHITECTURE_AND_ARCHAEOLOGY_', 'RELIGION_MYSTICISM_AND_MYTHOLOGY_']\n",
      "head ['HEALTH_AND_MEDICINE_', 'LANGUAGE_AND_LINGUISTICS_']\n",
      "scar ['HEALTH_AND_MEDICINE_', 'LANGUAGE_AND_LINGUISTICS_']\n",
      "surprise ['PHILOSOPHY_PSYCHOLOGY_AND_BEHAVIOR_']\n",
      "glitter ['PHYSICS_AND_ASTRONOMY_', 'VISUAL_']\n",
      "apron ['TEXTILE_FASHION_AND_CLOTHING_', 'SPORT_GAMES_AND_RECREATION_']\n",
      "cab ['TRANSPORT_AND_TRAVEL_']\n",
      "bottle ['FOOD_DRINK_AND_TASTE_', 'CULTURE_ANTHROPOLOGY_AND_SOCIETY_']\n",
      "bride ['CULTURE_ANTHROPOLOGY_AND_SOCIETY_', 'TEXTILE_FASHION_AND_CLOTHING_']\n",
      "assassination ['LAW_AND_CRIME_', 'WARFARE_DEFENSE_AND_VIOLENCE_']\n",
      "line ['CRAFT_ENGINEERING_AND_TECHNOLOGY_', 'CULTURE_ANTHROPOLOGY_AND_SOCIETY_']\n",
      "She ['LIVING_ENTITY_']\n",
      "handiwork ['TEXTILE_FASHION_AND_CLOTHING_']\n",
      "Andy ['PERSON']\n",
      "newspaper ['ART_ARCHITECTURE_AND_ARCHAEOLOGY_', 'BUSINESS_ECONOMICS_AND_FINANCE_']\n",
      "grin ['CULTURE_ANTHROPOLOGY_AND_SOCIETY_', 'LANGUAGE_AND_LINGUISTICS_']\n",
      "Meeker ['PERSON']\n",
      "blanket ['TEXTILE_FASHION_AND_CLOTHING_', 'METEOROLOGY_']\n",
      "Burton ['PERSON']\n",
      "car ['TRANSPORT_AND_TRAVEL_', 'CRAFT_ENGINEERING_AND_TECHNOLOGY_']\n",
      "station ['POLITICS_GOVERNMENT_AND_NOBILITY_', 'WARFARE_DEFENSE_AND_VIOLENCE_']\n",
      "Elaine ['PERSON']\n",
      "none ['TIME_', 'RELIGION_MYSTICISM_AND_MYTHOLOGY_']\n",
      "register ['BUSINESS_ECONOMICS_AND_FINANCE_', 'LAW_AND_CRIME_']\n",
      "nobody ['CULTURE_ANTHROPOLOGY_AND_SOCIETY_']\n",
      "Hal ['PERSON']\n",
      "disc ['MUSIC_SOUND_AND_DANCING_', 'CRAFT_ENGINEERING_AND_TECHNOLOGY_']\n",
      "rest ['GENERAL_', 'BIOLOGY_']\n",
      "crew ['BUSINESS_ECONOMICS_AND_FINANCE_', 'PHILOSOPHY_PSYCHOLOGY_AND_BEHAVIOR_']\n",
      "Ariadne ['PERSON']\n",
      "people ['POLITICS_GOVERNMENT_AND_NOBILITY_', 'CULTURE_ANTHROPOLOGY_AND_SOCIETY_']\n",
      "play ['SPORT_GAMES_AND_RECREATION_', 'MUSIC_SOUND_AND_DANCING_']\n",
      "grimace ['EMOTIONS_']\n",
      "Gavin ['PERSON']\n",
      "letter ['LANGUAGE_AND_LINGUISTICS_', 'SPORT_GAMES_AND_RECREATION_']\n",
      "fall ['WARFARE_DEFENSE_AND_VIOLENCE_', 'SPACE_AND_TOUCH_']\n",
      "kneel ['SPACE_AND_TOUCH_']\n",
      "fire ['PHILOSOPHY_PSYCHOLOGY_AND_BEHAVIOR_', 'CHEMISTRY_AND_MINERALOGY_']\n",
      "me ['LIVING_ENTITY_']\n",
      "part ['MATHEMATICS_', 'SPACE_AND_TOUCH_']\n",
      "derrick ['CRAFT_ENGINEERING_AND_TECHNOLOGY_']\n",
      "Joyce ['PERSON']\n",
      "hand ['BIOLOGY_', 'TEXTILE_FASHION_AND_CLOTHING_']\n",
      "Dan ['PERSON']\n",
      "Farmer ['FOOD_DRINK_AND_TASTE_', 'POLITICS_GOVERNMENT_AND_NOBILITY_']\n",
      "speck ['SPACE_AND_TOUCH_']\n",
      "two ['CARDINAL']\n",
      "woman ['CULTURE_ANTHROPOLOGY_AND_SOCIETY_', 'BIOLOGY_']\n",
      "surge ['METEOROLOGY_', 'GEOLOGY_AND_GEOPHYSICS_']\n",
      "outline ['LANGUAGE_AND_LINGUISTICS_', 'GENERAL_']\n",
      "cloud ['METEOROLOGY_', 'PHILOSOPHY_PSYCHOLOGY_AND_BEHAVIOR_']\n",
      "scaffolding ['ART_ARCHITECTURE_AND_ARCHAEOLOGY_']\n",
      "tultul ['PERSON']\n",
      "someone ['BIOLOGY_']\n",
      "Matsuo ['PERSON']\n",
      "marine ['NAUTICAL_']\n",
      "horse ['CRAFT_ENGINEERING_AND_TECHNOLOGY_', 'WARFARE_DEFENSE_AND_VIOLENCE_']\n",
      "Jack ['PERSON']\n",
      "dress ['TEXTILE_FASHION_AND_CLOTHING_', 'FOOD_DRINK_AND_TASTE_']\n",
      "look ['PHILOSOPHY_PSYCHOLOGY_AND_BEHAVIOR_', 'VISUAL_']\n",
      "boy ['BIOLOGY_', 'CULTURE_ANTHROPOLOGY_AND_SOCIETY_']\n",
      "belly ['BIOLOGY_', 'HEALTH_AND_MEDICINE_']\n",
      "foal ['PERSON']\n",
      "babe ['CULTURE_ANTHROPOLOGY_AND_SOCIETY_']\n",
      "tangle ['MATHEMATICS_', 'BIOLOGY_']\n",
      "danger ['EVALUATION_', 'HEALTH_AND_MEDICINE_']\n",
      "shame ['PHILOSOPHY_PSYCHOLOGY_AND_BEHAVIOR_', 'EMOTIONS_']\n",
      "courage ['PHILOSOPHY_PSYCHOLOGY_AND_BEHAVIOR_']\n",
      "arrogance ['PHILOSOPHY_PSYCHOLOGY_AND_BEHAVIOR_']\n",
      "glisten ['PHYSICS_AND_ASTRONOMY_', 'VISUAL_']\n",
      "suitcase ['TEXTILE_FASHION_AND_CLOTHING_']\n",
      "building ['ART_ARCHITECTURE_AND_ARCHAEOLOGY_', 'BUSINESS_ECONOMICS_AND_FINANCE_']\n",
      "doctor ['BUSINESS_ECONOMICS_AND_FINANCE_', 'SPORT_GAMES_AND_RECREATION_']\n",
      "Lucy ['PERSON']\n",
      "specter ['EMOTIONS_']\n",
      "flying ['METEOROLOGY_']\n",
      "brace ['CRAFT_ENGINEERING_AND_TECHNOLOGY_', 'GENERAL_']\n",
      "Coopers ['ORGANIZATION_']\n",
      "Bobbie ['PERSON']\n",
      "sense ['PHILOSOPHY_PSYCHOLOGY_AND_BEHAVIOR_', 'LANGUAGE_AND_LINGUISTICS_']\n",
      "Shirley ['PERSON']\n",
      "ring ['MUSIC_SOUND_AND_DANCING_', 'TEXTILE_FASHION_AND_CLOTHING_']\n",
      "city ['GEOGRAPHY_AND_PLACES_', 'CULTURE_ANTHROPOLOGY_AND_SOCIETY_']\n",
      "Theresa ['PERSON']\n",
      "Johnnie ['PERSON']\n",
      "Alma ['GEOGRAPHY_AND_PLACES_']\n",
      "girl ['CULTURE_ANTHROPOLOGY_AND_SOCIETY_', 'BIOLOGY_']\n",
      "Richard ['PERSON']\n",
      "frankness ['PHILOSOPHY_PSYCHOLOGY_AND_BEHAVIOR_', 'LANGUAGE_AND_LINGUISTICS_']\n",
      "shoulder ['HEALTH_AND_MEDICINE_', 'TRANSPORT_AND_TRAVEL_']\n",
      "color ['VISUAL_', 'BIOLOGY_']\n",
      "happiness ['EMOTIONS_']\n",
      "drama ['EMOTIONS_', 'MEDIA_']\n"
     ]
    }
   ],
   "source": [
    "# print first 10 entries\n",
    "for i, (word, synsets) in enumerate(word_sem_type_dict.items()):\n",
    "    print(word, synsets)"
   ],
   "metadata": {
    "collapsed": false,
    "ExecuteTime": {
     "end_time": "2024-04-10T16:05:35.595605800Z",
     "start_time": "2024-04-10T16:05:35.539610Z"
    }
   },
   "id": "1ec2c4a1cec02de6",
   "execution_count": 242
  }
 ],
 "metadata": {
  "kernelspec": {
   "display_name": "Python 3",
   "language": "python",
   "name": "python3"
  },
  "language_info": {
   "codemirror_mode": {
    "name": "ipython",
    "version": 2
   },
   "file_extension": ".py",
   "mimetype": "text/x-python",
   "name": "python",
   "nbconvert_exporter": "python",
   "pygments_lexer": "ipython2",
   "version": "2.7.6"
  }
 },
 "nbformat": 4,
 "nbformat_minor": 5
}
