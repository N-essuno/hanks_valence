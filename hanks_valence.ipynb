{
 "cells": [
  {
   "cell_type": "markdown",
   "source": [
    "# Hanks valence theory implementation\n",
    "\n",
    "Given a list of argument pairs for a verb of valence 2, we find the clusters of semantic type and calculate its frequency.\n",
    "\n",
    "We'll follow these steps:\n",
    "1. Load the sub-obj pairs\n",
    "2. Load the semantic types inventory\n",
    "3. For each word (subject and object) in the sub-obj pairs find the corresponding semantic types\n",
    "4. Calculate semantic types combinations and its frequencies and show the results"
   ],
   "metadata": {
    "collapsed": false
   },
   "id": "7a0b04906eb92af7"
  },
  {
   "cell_type": "code",
   "outputs": [
    {
     "name": "stderr",
     "output_type": "stream",
     "text": [
      "[nltk_data] Downloading package wordnet to\n",
      "[nltk_data]     C:\\Users\\Gianl\\AppData\\Roaming\\nltk_data...\n",
      "[nltk_data]   Package wordnet is already up-to-date!\n"
     ]
    },
    {
     "name": "stdout",
     "output_type": "stream",
     "text": [
      "\u001B[38;5;2m✔ Download and installation successful\u001B[0m\n",
      "You can now load the package via spacy.load('en_core_web_md')\n",
      "\u001B[38;5;3m⚠ Restart to reload dependencies\u001B[0m\n",
      "If you are in a Jupyter or Colab notebook, you may need to restart Python in\n",
      "order to load all the package's dependencies. You can do this by selecting the\n",
      "'Restart kernel' or 'Restart runtime' option.\n"
     ]
    }
   ],
   "source": [
    "from typing import Tuple, Dict, List\n",
    "import matplotlib.pyplot as plt\n",
    "\n",
    "import pandas as pd\n",
    "import nltk\n",
    "from nltk.corpus import wordnet as wn\n",
    "from nltk.corpus.reader.wordnet import Synset\n",
    "import spacy\n",
    "\n",
    "nltk.download('wordnet')\n",
    "\n",
    "spacy.cli.download(\"en_core_web_md\")\n",
    "nlp = spacy.load(\"en_core_web_md\")"
   ],
   "metadata": {
    "collapsed": false,
    "ExecuteTime": {
     "end_time": "2024-04-23T14:33:44.699998100Z",
     "start_time": "2024-04-23T14:33:41.232955100Z"
    }
   },
   "id": "3183bffc4932d2e",
   "execution_count": 90
  },
  {
   "cell_type": "markdown",
   "source": [
    "### 1. Load the sub-obj pairs"
   ],
   "metadata": {
    "collapsed": false
   },
   "id": "9b9e08ca8106897a"
  },
  {
   "cell_type": "code",
   "outputs": [
    {
     "data": {
      "text/plain": "       subject       object\n0  Republicans           it\n1          You        signs\n2    Democrats  opportunity\n3        which     soldiers\n4         they     approach",
      "text/html": "<div>\n<style scoped>\n    .dataframe tbody tr th:only-of-type {\n        vertical-align: middle;\n    }\n\n    .dataframe tbody tr th {\n        vertical-align: top;\n    }\n\n    .dataframe thead th {\n        text-align: right;\n    }\n</style>\n<table border=\"1\" class=\"dataframe\">\n  <thead>\n    <tr style=\"text-align: right;\">\n      <th></th>\n      <th>subject</th>\n      <th>object</th>\n    </tr>\n  </thead>\n  <tbody>\n    <tr>\n      <th>0</th>\n      <td>Republicans</td>\n      <td>it</td>\n    </tr>\n    <tr>\n      <th>1</th>\n      <td>You</td>\n      <td>signs</td>\n    </tr>\n    <tr>\n      <th>2</th>\n      <td>Democrats</td>\n      <td>opportunity</td>\n    </tr>\n    <tr>\n      <th>3</th>\n      <td>which</td>\n      <td>soldiers</td>\n    </tr>\n    <tr>\n      <th>4</th>\n      <td>they</td>\n      <td>approach</td>\n    </tr>\n  </tbody>\n</table>\n</div>"
     },
     "execution_count": 91,
     "metadata": {},
     "output_type": "execute_result"
    }
   ],
   "source": [
    "df = pd.read_csv('res/see_sub_obj_pairs.csv')\n",
    "df.head()"
   ],
   "metadata": {
    "collapsed": false,
    "ExecuteTime": {
     "end_time": "2024-04-23T14:33:44.728007200Z",
     "start_time": "2024-04-23T14:33:44.701999800Z"
    }
   },
   "id": "b699725054e5b08d",
   "execution_count": 91
  },
  {
   "cell_type": "markdown",
   "source": [
    "### 2. Load the semantic types inventory"
   ],
   "metadata": {
    "collapsed": false
   },
   "id": "f08b2992df6290e3"
  },
  {
   "cell_type": "code",
   "outputs": [],
   "source": [
    "# holds a mapping (wordnet id, wordnet pos) -> semantic type\n",
    "wn_semantic_type_dict: Dict[Tuple[int, str], str] = {}\n",
    "\n",
    "# open semantic types inventory\n",
    "with open('res/st_inventory.txt', 'r') as f:\n",
    "    # shorter version\n",
    "    # wn_semantic_type_dict = {line.split('\\t')[0]: line.split('\\t')[1] for line in f.read().splitlines()[:10]}\n",
    "    \n",
    "    st_inventory = f.read().splitlines()\n",
    "    # each line is of the form: wn:08641944n\\tGEOGRAPHY_AND_PLACES_\n",
    "    for line in st_inventory:\n",
    "        l = line.split('\\t')\n",
    "        wn_id = l[0]\n",
    "        # separate id in the form wn:08641944n to [08641944, n] (synset offset, pos tag)\n",
    "        wn_id_number, wn_id_pos = int(wn_id[3:-1]), wn_id[-1]\n",
    "        semantic_type = l[1]\n",
    "        wn_semantic_type_dict[(wn_id_number, wn_id_pos)] = semantic_type "
   ],
   "metadata": {
    "collapsed": false,
    "ExecuteTime": {
     "end_time": "2024-04-23T14:33:44.823999400Z",
     "start_time": "2024-04-23T14:33:44.717999100Z"
    }
   },
   "id": "12c772b2868926b9",
   "execution_count": 92
  },
  {
   "cell_type": "code",
   "execution_count": 93,
   "outputs": [
    {
     "name": "stdout",
     "output_type": "stream",
     "text": [
      "(8641944, 'n') GEOGRAPHY_AND_PLACES_\n",
      "(8950407, 'n') GEOGRAPHY_AND_PLACES_\n",
      "(4502851, 'n') WARFARE_DEFENSE_AND_VIOLENCE_\n",
      "(13742358, 'n') MATHEMATICS_\n",
      "(13742573, 'n') MATHEMATICS_\n",
      "(14930670, 'n') CHEMISTRY_AND_MINERALOGY_\n",
      "(475142, 'n') SPORT_GAMES_AND_RECREATION_\n",
      "(13746512, 'n') MATHEMATICS_\n",
      "(13750415, 'n') MATHEMATICS_\n",
      "(13750844, 'n') MATHEMATICS_\n",
      "(13751265, 'n') MATHEMATICS_\n"
     ]
    }
   ],
   "source": [
    "# print first 10 entries\n",
    "for i, (wn_id, st) in enumerate(wn_semantic_type_dict.items()):\n",
    "    print(wn_id, st)\n",
    "    if i == 10:\n",
    "        break"
   ],
   "metadata": {
    "collapsed": false,
    "ExecuteTime": {
     "end_time": "2024-04-23T14:33:44.825997500Z",
     "start_time": "2024-04-23T14:33:44.810998300Z"
    }
   },
   "id": "c0345bf88a7bd8ee"
  },
  {
   "cell_type": "markdown",
   "source": [
    "### 3. For each word (subject and object) in the sub-obj pairs find the corresponding semantic types"
   ],
   "metadata": {
    "collapsed": false
   },
   "id": "59f4655939cb2e20"
  },
  {
   "cell_type": "code",
   "outputs": [],
   "source": [
    "def get_synset_from_id(wn_id: Tuple[int, str]) -> Synset:\n",
    "    \"\"\"\n",
    "    Given a wordnet id (offset, pos), return the corresponding synset\n",
    "    :param wn_id: wordnet id in the form (offset, pos)\n",
    "    :return: synset corresponding to the wordnet id\n",
    "    \"\"\"\n",
    "    return wn.synset_from_pos_and_offset(wn_id[1], wn_id[0])"
   ],
   "metadata": {
    "collapsed": false,
    "ExecuteTime": {
     "end_time": "2024-04-23T14:33:44.855009900Z",
     "start_time": "2024-04-23T14:33:44.825997500Z"
    }
   },
   "id": "20ca718a6451dee0",
   "execution_count": 94
  },
  {
   "cell_type": "code",
   "execution_count": 95,
   "outputs": [
    {
     "name": "stdout",
     "output_type": "stream",
     "text": [
      "Synset(''hood.n.01')\n",
      "Synset('the_hague.n.01')\n",
      "Synset('twenty-two.n.02')\n",
      "Synset('zero.n.02')\n",
      "Synset('one.n.01')\n",
      "Synset('lauryl_alcohol.n.01')\n",
      "Synset('one-hitter.n.01')\n",
      "Synset('ten.n.01')\n",
      "Synset('hundred.n.01')\n",
      "Synset('thousand.n.01')\n"
     ]
    }
   ],
   "source": [
    "# print first 10 synsets\n",
    "for wn_id in list(wn_semantic_type_dict.keys())[:10]:\n",
    "    print(get_synset_from_id(wn_id))"
   ],
   "metadata": {
    "collapsed": false,
    "ExecuteTime": {
     "end_time": "2024-04-23T14:33:44.903046800Z",
     "start_time": "2024-04-23T14:33:44.841998100Z"
    }
   },
   "id": "b87454d41f7374c0"
  },
  {
   "cell_type": "markdown",
   "source": [
    "Create a list of available synsets from st_inventory and a list of pronouns to be used later."
   ],
   "metadata": {
    "collapsed": false
   },
   "id": "802acce872deed53"
  },
  {
   "cell_type": "code",
   "outputs": [],
   "source": [
    "# save list of synsets available\n",
    "synset_list: List[Synset] = []\n",
    "\n",
    "for wn_id in list(wn_semantic_type_dict.keys()):\n",
    "    synset_list.append(get_synset_from_id(wn_id))\n",
    "    \n",
    "# save list of pronouns, to be used later\n",
    "living_entity_pronouns = [\"I\", \"you\", \"he\", \"she\", \"we\", \"they\", \"me\", \"you\", \"him\", \"her\", \"us\", \"them\"]\n",
    "object_pronouns = [\"it\"]"
   ],
   "metadata": {
    "collapsed": false,
    "ExecuteTime": {
     "end_time": "2024-04-23T14:33:44.922010200Z",
     "start_time": "2024-04-23T14:33:44.857999500Z"
    }
   },
   "id": "fb6fe5a3658fa356",
   "execution_count": 96
  },
  {
   "cell_type": "markdown",
   "source": [
    "#### Functions to retrieve semantic types for a word based on its type (pronoun, common noun, named entity)\n",
    "\n",
    "Depending on the type of the word (pronoun, common noun, named entity), we'll retrieve the semantic types by calling the right function."
   ],
   "metadata": {
    "collapsed": false
   },
   "id": "f6874b6f5bc3809"
  },
  {
   "cell_type": "code",
   "outputs": [],
   "source": [
    "lemmatizer = nltk.WordNetLemmatizer()\n",
    "\n",
    "def get_common_nouns_sem_types(word: str) -> List[str]:\n",
    "    \"\"\"\n",
    "    Given a word, expected to be a common noun, retrieve all the synsets from st_inventory where the word is included, and return the corresponding semantic types\n",
    "    \"\"\"\n",
    "    sem_types = []\n",
    "    \n",
    "    for synset in synset_list: # iterate synsets in st_inventory\n",
    "        if word in synset.lemma_names(): # if the word is in the synset\n",
    "            # get the sem type from st_inventory corresponding to the synset associated to the word (identified by offset, pos)\n",
    "            sem_type = wn_semantic_type_dict[(synset.offset(), synset.pos())]\n",
    "            sem_types.append(sem_type)\n",
    "    \n",
    "    return sem_types"
   ],
   "metadata": {
    "collapsed": false,
    "ExecuteTime": {
     "end_time": "2024-04-23T14:33:44.923000500Z",
     "start_time": "2024-04-23T14:33:44.907023Z"
    }
   },
   "id": "cbf67710233c7e46",
   "execution_count": 97
  },
  {
   "cell_type": "code",
   "execution_count": 98,
   "outputs": [],
   "source": [
    "def get_pronoun_sem_types(pronoun: str) -> List[str]:\n",
    "    \"\"\"\n",
    "    Given a pronoun, return the semantic types of the pronoun\n",
    "    \"\"\"\n",
    "    if pronoun in living_entity_pronouns:\n",
    "        return [\"LIVING_ENTITY_\"]\n",
    "    elif pronoun in object_pronouns:\n",
    "        return [\"OBJECT_\"]"
   ],
   "metadata": {
    "collapsed": false,
    "ExecuteTime": {
     "end_time": "2024-04-23T14:33:44.965005200Z",
     "start_time": "2024-04-23T14:33:44.920020300Z"
    }
   },
   "id": "b137cc54d47d0a4a"
  },
  {
   "cell_type": "code",
   "execution_count": 99,
   "outputs": [],
   "source": [
    "def ner_single_word(word: str)-> List[Tuple[str, str]]:\n",
    "    doc = nlp(word)\n",
    "    # return the entity type if available\n",
    "    return [(ent.text, ent.label_) for ent in doc.ents]\n",
    "\n",
    "def get_named_entity_sem_types(named_entities: List[str]) -> List[str]:\n",
    "    \"\"\"\n",
    "    Given a named entity, return the semantic types of the named entity\n",
    "    \"\"\"\n",
    "    # retrieve the entity type if available\n",
    "    for ent in named_entities:\n",
    "        # we now consider only the first entity type\n",
    "        sem_type = ent[1]\n",
    "        if sem_type == \"ORG\":\n",
    "            return [\"ORGANIZATION_\"]\n",
    "        elif sem_type == \"GPE\":\n",
    "            return [\"GEOGRAPHY_AND_PLACES_\"]\n",
    "        elif sem_type == \"NORP\":\n",
    "            return [\"NATIONALITIES_OR_RELIGIONS_OR_POLITICAL_GROUPS_\"]\n",
    "        else:\n",
    "            return [sem_type]"
   ],
   "metadata": {
    "collapsed": false,
    "ExecuteTime": {
     "end_time": "2024-04-23T14:33:44.966000800Z",
     "start_time": "2024-04-23T14:33:44.936998300Z"
    }
   },
   "id": "e70fdba3c388abb3"
  },
  {
   "cell_type": "markdown",
   "source": [
    "Function to select the n most frequent semantic types for each word"
   ],
   "metadata": {
    "collapsed": false
   },
   "id": "bc5eef515dc889b6"
  },
  {
   "cell_type": "code",
   "execution_count": 100,
   "outputs": [],
   "source": [
    "def select_most_freq_sem_type(sem_types: List[str], n: int) -> List[str]:\n",
    "    \"\"\"\n",
    "    Given a list of semantic types as strings, select the n most frequent semantic types\n",
    "    :param sem_types: list of semantic types as strings\n",
    "    :param n: number of most frequent semantic types to select\n",
    "    :return: list of n most frequent semantic types\n",
    "    \"\"\"\n",
    "    sem_type_freq = {}\n",
    "    \n",
    "    for sem_type in sem_types:\n",
    "        if sem_type in sem_type_freq:\n",
    "            sem_type_freq[sem_type] += 1\n",
    "        else:\n",
    "            sem_type_freq[sem_type] = 1\n",
    "    \n",
    "    # sort the semantic types by frequency, uses the frequency as the key\n",
    "    sorted_sem_type_freq = sorted(sem_type_freq.items(), key=lambda x: x[1], reverse=True)\n",
    "    # take the first n semantic types from the sorted list\n",
    "    return [sem_type for sem_type, freq in sorted_sem_type_freq[:n]]"
   ],
   "metadata": {
    "collapsed": false,
    "ExecuteTime": {
     "end_time": "2024-04-23T14:33:44.968010400Z",
     "start_time": "2024-04-23T14:33:44.952999200Z"
    }
   },
   "id": "69d99112bf0900fd"
  },
  {
   "cell_type": "markdown",
   "source": [
    "Run the right functions to get the semantic types for a word based on its type (pronoun, common noun, named entity)"
   ],
   "metadata": {
    "collapsed": false
   },
   "id": "f56196a0ddf4688d"
  },
  {
   "cell_type": "code",
   "execution_count": 101,
   "outputs": [],
   "source": [
    "word_sem_type_dict: Dict[str, List[str]] = {} # dictionary to store the semantic types of each word (word -> semantic types)\n",
    "unkonwn_words = set() # set to store unknown words (words for which we couldn't find semantic types)\n",
    "\n",
    "def find_sem_types(word: str, n_most_freq: int = 2 ):\n",
    "    \"\"\"\n",
    "    Given a word, find the n_most_freq most frequent semantic types for the word based on its type (pronoun, common noun, named entity) and store them in the word_sem_type_dict\n",
    "    :param word: word to find the semantic types\n",
    "    :param n_most_freq: number of most frequent semantic types to select\n",
    "    \"\"\"\n",
    "    lemmatized_word = lemmatizer.lemmatize(word)\n",
    "\n",
    "    if word not in word_sem_type_dict: # if the word is not already in the dictionary\n",
    "        # extract possible named entities\n",
    "        named_entities = ner_single_word(word)\n",
    "        \n",
    "        if word.lower() in living_entity_pronouns + object_pronouns: # if the word is a pronoun\n",
    "            sem_types = get_pronoun_sem_types(word.lower())\n",
    "        elif named_entities: # if the word is a named entity\n",
    "            sem_types = get_named_entity_sem_types(named_entities)\n",
    "        else: # if the word is a common noun\n",
    "            sem_types = get_common_nouns_sem_types(lemmatized_word)\n",
    "        \n",
    "        if sem_types: # if we found semantic types\n",
    "            frequent_sem_types = select_most_freq_sem_type(sem_types, n_most_freq) # get most frequent semantic types\n",
    "            word_sem_type_dict[word] = frequent_sem_types # store the semantic types in the dictionary\n",
    "        else:\n",
    "            unkonwn_words.add(word)"
   ],
   "metadata": {
    "collapsed": false,
    "ExecuteTime": {
     "end_time": "2024-04-23T14:33:44.999997800Z",
     "start_time": "2024-04-23T14:33:44.968010400Z"
    }
   },
   "id": "452b01e462cf5561"
  },
  {
   "cell_type": "markdown",
   "source": [
    "For each word in the sub-obj pairs, find the corresponding `n_most_freq` most frequent semantic types"
   ],
   "metadata": {
    "collapsed": false
   },
   "id": "7015576ef9e746e1"
  },
  {
   "cell_type": "code",
   "execution_count": 102,
   "outputs": [],
   "source": [
    "for i, row in df.iterrows():\n",
    "    sub: str = row['subject']\n",
    "    obj: str = row['object']\n",
    "    n_most_freq = 2 # number of most frequent semantic types to select\n",
    "        \n",
    "    find_sem_types(sub, n_most_freq)\n",
    "    find_sem_types(obj, n_most_freq)"
   ],
   "metadata": {
    "collapsed": false,
    "ExecuteTime": {
     "end_time": "2024-04-23T14:33:53.961999200Z",
     "start_time": "2024-04-23T14:33:44.982998300Z"
    }
   },
   "id": "7f2afc438df8921"
  },
  {
   "cell_type": "code",
   "outputs": [
    {
     "name": "stdout",
     "output_type": "stream",
     "text": [
      "Republicans ['NATIONALITIES_OR_RELIGIONS_OR_POLITICAL_GROUPS_']\n",
      "it ['OBJECT_']\n",
      "You ['LIVING_ENTITY_']\n",
      "signs ['LANGUAGE_AND_LINGUISTICS_', 'RELIGION_MYSTICISM_AND_MYTHOLOGY_']\n",
      "Democrats ['NATIONALITIES_OR_RELIGIONS_OR_POLITICAL_GROUPS_']\n",
      "opportunity ['GENERAL_']\n",
      "soldiers ['WARFARE_DEFENSE_AND_VIOLENCE_', 'BIOLOGY_']\n",
      "they ['LIVING_ENTITY_']\n",
      "approach ['SEX_', 'PHILOSOPHY_PSYCHOLOGY_AND_BEHAVIOR_']\n",
      "year ['HISTORY_', 'TIME_']\n",
      "cleaning ['CULTURE_ANTHROPOLOGY_AND_SOCIETY_']\n"
     ]
    }
   ],
   "source": [
    "# print first 10 entries (word, semantic types)\n",
    "for i, (word, synsets) in enumerate(word_sem_type_dict.items()):\n",
    "    print(word, synsets)\n",
    "    if i == 10:\n",
    "        break"
   ],
   "metadata": {
    "collapsed": false,
    "ExecuteTime": {
     "end_time": "2024-04-23T14:33:53.983046600Z",
     "start_time": "2024-04-23T14:33:53.965002Z"
    }
   },
   "id": "1ec2c4a1cec02de6",
   "execution_count": 103
  },
  {
   "cell_type": "markdown",
   "source": [
    "### 4. Calculate semantic types combinations and its frequencies\n",
    "\n",
    "Calculate all possible combinations of semantic types (collocation) from the sub-obj pairs and store the number of occurrences."
   ],
   "metadata": {
    "collapsed": false
   },
   "id": "80f661cc63ff48ce"
  },
  {
   "cell_type": "code",
   "execution_count": 104,
   "outputs": [],
   "source": [
    "sem_type_combinations: Dict[Tuple[str, str], int] = {} # dictionary to store the frequency of each combination of semantic types\n",
    "for i, row in df.iterrows():\n",
    "    sub: str = row['subject']\n",
    "    obj: str = row['object']\n",
    "    \n",
    "    # if the subject or object is an unknown word, skip, because we don't have the semantic types and the sentence is not useful\n",
    "    if sub in unkonwn_words or obj in unkonwn_words:\n",
    "        continue\n",
    "    \n",
    "    # get the semantic types of the subject and object\n",
    "    sub_sem_types: List[str] = word_sem_type_dict[sub]\n",
    "    obj_sem_types: List[str] = word_sem_type_dict[obj]\n",
    "    \n",
    "    # for each combination of semantic types, count the number of occurrences\n",
    "    for sub_sem_type in sub_sem_types:\n",
    "        for obj_sem_type in obj_sem_types:\n",
    "            key = (sub_sem_type, obj_sem_type)\n",
    "            if key in sem_type_combinations:\n",
    "                sem_type_combinations[key] += 1\n",
    "            else:\n",
    "                sem_type_combinations[key] = 1"
   ],
   "metadata": {
    "collapsed": false,
    "ExecuteTime": {
     "end_time": "2024-04-23T14:33:54.039007300Z",
     "start_time": "2024-04-23T14:33:53.980000500Z"
    }
   },
   "id": "ad0945622fb0dadd"
  },
  {
   "cell_type": "markdown",
   "source": [
    "Sort the semantic type combinations by frequency"
   ],
   "metadata": {
    "collapsed": false
   },
   "id": "1d94bf9ef67970be"
  },
  {
   "cell_type": "code",
   "execution_count": 105,
   "outputs": [],
   "source": [
    "sorted_sem_type_combinations = dict(sorted(sem_type_combinations.items(), key=lambda x: x[1], reverse=True))"
   ],
   "metadata": {
    "collapsed": false,
    "ExecuteTime": {
     "end_time": "2024-04-23T14:33:54.050997800Z",
     "start_time": "2024-04-23T14:33:54.010998700Z"
    }
   },
   "id": "30e8bf35280623fa"
  },
  {
   "cell_type": "markdown",
   "source": [
    "Print the first 10 most frequent combinations of semantic types"
   ],
   "metadata": {
    "collapsed": false
   },
   "id": "80f58e734a5a9358"
  },
  {
   "cell_type": "code",
   "execution_count": 106,
   "outputs": [
    {
     "name": "stdout",
     "output_type": "stream",
     "text": [
      "('LIVING_ENTITY_', 'LIVING_ENTITY_') 38\n",
      "('MATHEMATICS_', 'LIVING_ENTITY_') 28\n",
      "('CHEMISTRY_AND_MINERALOGY_', 'LIVING_ENTITY_') 28\n",
      "('LIVING_ENTITY_', 'GENERAL_') 25\n",
      "('LIVING_ENTITY_', 'BIOLOGY_') 23\n",
      "('LIVING_ENTITY_', 'PHILOSOPHY_PSYCHOLOGY_AND_BEHAVIOR_') 19\n",
      "('LIVING_ENTITY_', 'MATHEMATICS_') 19\n",
      "('LIVING_ENTITY_', 'OBJECT_') 16\n",
      "('LIVING_ENTITY_', 'SPACE_AND_TOUCH_') 14\n",
      "('LIVING_ENTITY_', 'CULTURE_ANTHROPOLOGY_AND_SOCIETY_') 14\n",
      "('MATHEMATICS_', 'SPACE_AND_TOUCH_') 12\n"
     ]
    }
   ],
   "source": [
    "for i, (sem_type_comb, freq) in enumerate(sorted_sem_type_combinations.items()):\n",
    "    print(sem_type_comb, freq)\n",
    "    if i == 10:\n",
    "        break"
   ],
   "metadata": {
    "collapsed": false,
    "ExecuteTime": {
     "end_time": "2024-04-23T14:33:54.051997800Z",
     "start_time": "2024-04-23T14:33:54.025000100Z"
    }
   },
   "id": "3e21fd0d46734b33"
  },
  {
   "cell_type": "markdown",
   "source": [
    "Plot the 10 most frequent combinations of semantic types"
   ],
   "metadata": {
    "collapsed": false
   },
   "id": "b8cb59d0a8582db5"
  },
  {
   "cell_type": "code",
   "execution_count": 107,
   "outputs": [
    {
     "data": {
      "text/plain": "<Figure size 640x480 with 1 Axes>",
      "image/png": "[encoded data removed]"
     },
     "metadata": {},
     "output_type": "display_data"
    }
   ],
   "source": [
    "plt.bar(range(10), list(sorted_sem_type_combinations.values())[:10], align='center', width=0.5)\n",
    "# plot vertical labels for each combination\n",
    "plt.xticks(range(10), [f\"{sem_type_comb[0]} - {sem_type_comb[1]}\" for sem_type_comb in list(sorted_sem_type_combinations.keys())[:10]], rotation='vertical')\n",
    "plt.ylabel('Frequency')\n",
    "plt.show()"
   ],
   "metadata": {
    "collapsed": false,
    "ExecuteTime": {
     "end_time": "2024-04-23T14:33:54.182998600Z",
     "start_time": "2024-04-23T14:33:54.041998200Z"
    }
   },
   "id": "4f6dff0cb8ec5985"
  },
  {
   "cell_type": "markdown",
   "source": [
    "### --------------- old code ---------------\n",
    "\n",
    "Calculate the probability distribution over the semantic type clusters.\n",
    "For each semantic type combination, calculate the probability as the frequency of the combination divided by the total number of combinations occurrences"
   ],
   "metadata": {
    "collapsed": false
   },
   "id": "64e5da51cf430428"
  },
  {
   "cell_type": "code",
   "execution_count": 108,
   "outputs": [
    {
     "name": "stdout",
     "output_type": "stream",
     "text": [
      "('NATIONALITIES_OR_RELIGIONS_OR_POLITICAL_GROUPS_', 'OBJECT_') 0.001314060446780552\n",
      "('LIVING_ENTITY_', 'LANGUAGE_AND_LINGUISTICS_') 0.01445466491458607\n",
      "('LIVING_ENTITY_', 'RELIGION_MYSTICISM_AND_MYTHOLOGY_') 0.010512483574244415\n",
      "('NATIONALITIES_OR_RELIGIONS_OR_POLITICAL_GROUPS_', 'GENERAL_') 0.003942181340341655\n",
      "('LIVING_ENTITY_', 'SEX_') 0.001314060446780552\n",
      "('LIVING_ENTITY_', 'PHILOSOPHY_PSYCHOLOGY_AND_BEHAVIOR_') 0.024967148488830485\n",
      "('HISTORY_', 'CULTURE_ANTHROPOLOGY_AND_SOCIETY_') 0.001314060446780552\n",
      "('TIME_', 'CULTURE_ANTHROPOLOGY_AND_SOCIETY_') 0.001314060446780552\n",
      "('LIVING_ENTITY_', 'MEDIA_') 0.003942181340341655\n",
      "('BUSINESS_ECONOMICS_AND_FINANCE_', 'MEDIA_') 0.001314060446780552\n",
      "('BUSINESS_ECONOMICS_AND_FINANCE_', 'VISUAL_') 0.001314060446780552\n",
      "('MUSIC_SOUND_AND_DANCING_', 'MEDIA_') 0.001314060446780552\n",
      "('MUSIC_SOUND_AND_DANCING_', 'VISUAL_') 0.001314060446780552\n",
      "('MATHEMATICS_', 'OBJECT_') 0.009198423127463863\n",
      "('CHEMISTRY_AND_MINERALOGY_', 'OBJECT_') 0.009198423127463863\n",
      "('PERSON', 'CULTURE_ANTHROPOLOGY_AND_SOCIETY_') 0.003942181340341655\n",
      "('PERSON', 'FISHING_AND_HUNTING_') 0.001314060446780552\n",
      "('PERSON', 'PHILOSOPHY_PSYCHOLOGY_AND_BEHAVIOR_') 0.006570302233902759\n",
      "('PERSON', 'MATHEMATICS_') 0.002628120893561104\n",
      "('LIVING_ENTITY_', 'OBJECT_') 0.02102496714848883\n",
      "('POLITICS_GOVERNMENT_AND_NOBILITY_', 'OBJECT_') 0.001314060446780552\n",
      "('BIOLOGY_', 'OBJECT_') 0.002628120893561104\n",
      "('LIVING_ENTITY_', 'GENERAL_') 0.0328515111695138\n",
      "('LIVING_ENTITY_', 'MATHEMATICS_') 0.024967148488830485\n",
      "('BUSINESS_ECONOMICS_AND_FINANCE_', 'LIVING_ENTITY_') 0.001314060446780552\n",
      "('WARFARE_DEFENSE_AND_VIOLENCE_', 'LIVING_ENTITY_') 0.001314060446780552\n",
      "('POLITICS_GOVERNMENT_AND_NOBILITY_', 'EVALUATION_') 0.001314060446780552\n",
      "('POLITICS_GOVERNMENT_AND_NOBILITY_', 'EDUCATION_AND_SCIENCE_') 0.001314060446780552\n",
      "('FOOD_DRINK_AND_TASTE_', 'EVALUATION_') 0.001314060446780552\n",
      "('FOOD_DRINK_AND_TASTE_', 'EDUCATION_AND_SCIENCE_') 0.001314060446780552\n",
      "('LIVING_ENTITY_', 'GEOGRAPHY_AND_PLACES_') 0.010512483574244415\n",
      "('LIVING_ENTITY_', 'FARMING_') 0.003942181340341655\n",
      "('LIVING_ENTITY_', 'BUSINESS_ECONOMICS_AND_FINANCE_') 0.011826544021024968\n",
      "('PERSON', 'BIOLOGY_') 0.003942181340341655\n",
      "('PERSON', 'SPORT_GAMES_AND_RECREATION_') 0.001314060446780552\n",
      "('SPORT_GAMES_AND_RECREATION_', 'TEXTILE_FASHION_AND_CLOTHING_') 0.001314060446780552\n",
      "('SPORT_GAMES_AND_RECREATION_', 'BIOLOGY_') 0.001314060446780552\n",
      "('COMPUTING_', 'TEXTILE_FASHION_AND_CLOTHING_') 0.001314060446780552\n",
      "('COMPUTING_', 'BIOLOGY_') 0.001314060446780552\n",
      "('LIVING_ENTITY_', 'LAW_AND_CRIME_') 0.003942181340341655\n",
      "('POLITICS_GOVERNMENT_AND_NOBILITY_', 'TRANSPORT_AND_TRAVEL_') 0.001314060446780552\n",
      "('POLITICS_GOVERNMENT_AND_NOBILITY_', 'LAW_AND_CRIME_') 0.001314060446780552\n",
      "('CULTURE_ANTHROPOLOGY_AND_SOCIETY_', 'TRANSPORT_AND_TRAVEL_') 0.001314060446780552\n",
      "('CULTURE_ANTHROPOLOGY_AND_SOCIETY_', 'LAW_AND_CRIME_') 0.001314060446780552\n",
      "('MATHEMATICS_', 'SPORT_GAMES_AND_RECREATION_') 0.006570302233902759\n",
      "('MATHEMATICS_', 'CULTURE_ANTHROPOLOGY_AND_SOCIETY_') 0.00788436268068331\n",
      "('LAW_AND_CRIME_', 'SPORT_GAMES_AND_RECREATION_') 0.001314060446780552\n",
      "('LAW_AND_CRIME_', 'CULTURE_ANTHROPOLOGY_AND_SOCIETY_') 0.002628120893561104\n",
      "('PERSON', 'FARMING_') 0.001314060446780552\n",
      "('POLITICS_GOVERNMENT_AND_NOBILITY_', 'RELIGION_MYSTICISM_AND_MYTHOLOGY_') 0.001314060446780552\n",
      "('PHYSICS_AND_ASTRONOMY_', 'RELIGION_MYSTICISM_AND_MYTHOLOGY_') 0.001314060446780552\n",
      "('LIVING_ENTITY_', 'POLITICS_GOVERNMENT_AND_NOBILITY_') 0.010512483574244415\n",
      "('MATHEMATICS_', 'LANGUAGE_AND_LINGUISTICS_') 0.00788436268068331\n",
      "('MATHEMATICS_', 'EDUCATION_AND_SCIENCE_') 0.001314060446780552\n",
      "('CHEMISTRY_AND_MINERALOGY_', 'LANGUAGE_AND_LINGUISTICS_') 0.00788436268068331\n",
      "('CHEMISTRY_AND_MINERALOGY_', 'EDUCATION_AND_SCIENCE_') 0.001314060446780552\n",
      "('GEOGRAPHY_AND_PLACES_', 'ORGANIZATION_') 0.001314060446780552\n",
      "('NATIONALITIES_OR_RELIGIONS_OR_POLITICAL_GROUPS_', 'BIOLOGY_') 0.001314060446780552\n",
      "('NATIONALITIES_OR_RELIGIONS_OR_POLITICAL_GROUPS_', 'EMOTIONS_') 0.001314060446780552\n",
      "('MATHEMATICS_', 'PERSON') 0.010512483574244415\n",
      "('CHEMISTRY_AND_MINERALOGY_', 'PERSON') 0.010512483574244415\n",
      "('LIVING_ENTITY_', 'VISUAL_') 0.010512483574244415\n",
      "('MEDIA_', 'PHILOSOPHY_PSYCHOLOGY_AND_BEHAVIOR_') 0.001314060446780552\n",
      "('LIVING_ENTITY_', 'LIVING_ENTITY_') 0.04993429697766097\n",
      "('BIOLOGY_', 'SPACE_AND_TOUCH_') 0.001314060446780552\n",
      "('FARMING_', 'SPACE_AND_TOUCH_') 0.001314060446780552\n",
      "('MATHEMATICS_', 'BIOLOGY_') 0.010512483574244415\n",
      "('MATHEMATICS_', 'SPACE_AND_TOUCH_') 0.01576872536136662\n",
      "('CHEMISTRY_AND_MINERALOGY_', 'BIOLOGY_') 0.010512483574244415\n",
      "('CHEMISTRY_AND_MINERALOGY_', 'SPACE_AND_TOUCH_') 0.01576872536136662\n",
      "('ORGANIZATION_', 'POLITICS_GOVERNMENT_AND_NOBILITY_') 0.001314060446780552\n",
      "('ORGANIZATION_', 'BUSINESS_ECONOMICS_AND_FINANCE_') 0.001314060446780552\n",
      "('MATHEMATICS_', 'LAW_AND_CRIME_') 0.001314060446780552\n",
      "('MATHEMATICS_', 'BUSINESS_ECONOMICS_AND_FINANCE_') 0.006570302233902759\n",
      "('CHEMISTRY_AND_MINERALOGY_', 'LAW_AND_CRIME_') 0.001314060446780552\n",
      "('CHEMISTRY_AND_MINERALOGY_', 'BUSINESS_ECONOMICS_AND_FINANCE_') 0.006570302233902759\n",
      "('CULTURE_ANTHROPOLOGY_AND_SOCIETY_', 'HISTORY_') 0.001314060446780552\n",
      "('CULTURE_ANTHROPOLOGY_AND_SOCIETY_', 'CULTURE_ANTHROPOLOGY_AND_SOCIETY_') 0.001314060446780552\n",
      "('LAW_AND_CRIME_', 'HISTORY_') 0.001314060446780552\n",
      "('BIOLOGY_', 'EVALUATION_') 0.001314060446780552\n",
      "('BIOLOGY_', 'BIOLOGY_') 0.003942181340341655\n",
      "('WARFARE_DEFENSE_AND_VIOLENCE_', 'EVALUATION_') 0.001314060446780552\n",
      "('WARFARE_DEFENSE_AND_VIOLENCE_', 'BIOLOGY_') 0.002628120893561104\n",
      "('RELIGION_MYSTICISM_AND_MYTHOLOGY_', 'OBJECT_') 0.001314060446780552\n",
      "('LIVING_ENTITY_', 'CHEMISTRY_AND_MINERALOGY_') 0.002628120893561104\n",
      "('LIVING_ENTITY_', 'SPACE_AND_TOUCH_') 0.018396846254927726\n",
      "('LANGUAGE_AND_LINGUISTICS_', 'RELIGION_MYSTICISM_AND_MYTHOLOGY_') 0.001314060446780552\n",
      "('BIOLOGY_', 'RELIGION_MYSTICISM_AND_MYTHOLOGY_') 0.001314060446780552\n",
      "('WARFARE_DEFENSE_AND_VIOLENCE_', 'RELIGION_MYSTICISM_AND_MYTHOLOGY_') 0.001314060446780552\n",
      "('LIVING_ENTITY_', 'PHYSICS_AND_ASTRONOMY_') 0.010512483574244415\n",
      "('MATHEMATICS_', 'GEOGRAPHY_AND_PLACES_') 0.005256241787122208\n",
      "('CHEMISTRY_AND_MINERALOGY_', 'GEOGRAPHY_AND_PLACES_') 0.005256241787122208\n",
      "('DATE', 'GENERAL_') 0.001314060446780552\n",
      "('DATE', 'NUMISMATICS_AND_CURRENCIES_') 0.001314060446780552\n",
      "('MATHEMATICS_', 'CARDINAL') 0.003942181340341655\n",
      "('CHEMISTRY_AND_MINERALOGY_', 'CARDINAL') 0.003942181340341655\n",
      "('MATHEMATICS_', 'PHYSICS_AND_ASTRONOMY_') 0.001314060446780552\n",
      "('CHEMISTRY_AND_MINERALOGY_', 'PHYSICS_AND_ASTRONOMY_') 0.001314060446780552\n",
      "('HISTORY_', 'LIVING_ENTITY_') 0.001314060446780552\n",
      "('TIME_', 'LIVING_ENTITY_') 0.001314060446780552\n",
      "('LIVING_ENTITY_', 'EVALUATION_') 0.005256241787122208\n",
      "('LIVING_ENTITY_', 'EDUCATION_AND_SCIENCE_') 0.005256241787122208\n",
      "('LIVING_ENTITY_', 'HEALTH_AND_MEDICINE_') 0.00788436268068331\n",
      "('LIVING_ENTITY_', 'BIOLOGY_') 0.030223390275952694\n",
      "('LIVING_ENTITY_', 'EMOTIONS_') 0.006570302233902759\n",
      "('NATIONALITIES_OR_RELIGIONS_OR_POLITICAL_GROUPS_', 'MATHEMATICS_') 0.001314060446780552\n",
      "('LIVING_ENTITY_', 'ART_ARCHITECTURE_AND_ARCHAEOLOGY_') 0.010512483574244415\n",
      "('MATHEMATICS_', 'VISUAL_') 0.002628120893561104\n",
      "('MATHEMATICS_', 'WARFARE_DEFENSE_AND_VIOLENCE_') 0.002628120893561104\n",
      "('LIVING_ENTITY_', 'CRAFT_ENGINEERING_AND_TECHNOLOGY_') 0.00788436268068331\n",
      "('PHILOSOPHY_PSYCHOLOGY_AND_BEHAVIOR_', 'PHILOSOPHY_PSYCHOLOGY_AND_BEHAVIOR_') 0.001314060446780552\n",
      "('PHILOSOPHY_PSYCHOLOGY_AND_BEHAVIOR_', 'EVALUATION_') 0.001314060446780552\n",
      "('LAW_AND_CRIME_', 'LIVING_ENTITY_') 0.001314060446780552\n",
      "('HEALTH_AND_MEDICINE_', 'BIOLOGY_') 0.001314060446780552\n",
      "('HEALTH_AND_MEDICINE_', 'PHILOSOPHY_PSYCHOLOGY_AND_BEHAVIOR_') 0.001314060446780552\n",
      "('MATHEMATICS_', 'GENERAL_') 0.01445466491458607\n",
      "('CHEMISTRY_AND_MINERALOGY_', 'GENERAL_') 0.01445466491458607\n",
      "('CHEMISTRY_AND_MINERALOGY_', 'SPORT_GAMES_AND_RECREATION_') 0.005256241787122208\n",
      "('LIVING_ENTITY_', 'CARDINAL') 0.006570302233902759\n",
      "('LIVING_ENTITY_', 'CULTURE_ANTHROPOLOGY_AND_SOCIETY_') 0.018396846254927726\n",
      "('MATHEMATICS_', 'CRAFT_ENGINEERING_AND_TECHNOLOGY_') 0.002628120893561104\n",
      "('MATHEMATICS_', 'PHILOSOPHY_PSYCHOLOGY_AND_BEHAVIOR_') 0.006570302233902759\n",
      "('CHEMISTRY_AND_MINERALOGY_', 'CRAFT_ENGINEERING_AND_TECHNOLOGY_') 0.002628120893561104\n",
      "('CHEMISTRY_AND_MINERALOGY_', 'PHILOSOPHY_PSYCHOLOGY_AND_BEHAVIOR_') 0.006570302233902759\n",
      "('BIOLOGY_', 'MATHEMATICS_') 0.002628120893561104\n",
      "('WARFARE_DEFENSE_AND_VIOLENCE_', 'MATHEMATICS_') 0.001314060446780552\n",
      "('NATIONALITIES_OR_RELIGIONS_OR_POLITICAL_GROUPS_', 'LIVING_ENTITY_') 0.001314060446780552\n",
      "('CHEMISTRY_AND_MINERALOGY_', 'CULTURE_ANTHROPOLOGY_AND_SOCIETY_') 0.006570302233902759\n",
      "('MATHEMATICS_', 'HEALTH_AND_MEDICINE_') 0.003942181340341655\n",
      "('MATHEMATICS_', 'EVALUATION_') 0.001314060446780552\n",
      "('CHEMISTRY_AND_MINERALOGY_', 'HEALTH_AND_MEDICINE_') 0.003942181340341655\n",
      "('CHEMISTRY_AND_MINERALOGY_', 'EVALUATION_') 0.001314060446780552\n",
      "('WARFARE_DEFENSE_AND_VIOLENCE_', 'OBJECT_') 0.001314060446780552\n",
      "('MATHEMATICS_', 'MATHEMATICS_') 0.006570302233902759\n",
      "('CHEMISTRY_AND_MINERALOGY_', 'MATHEMATICS_') 0.006570302233902759\n",
      "('MATHEMATICS_', 'MUSIC_SOUND_AND_DANCING_') 0.001314060446780552\n",
      "('CHEMISTRY_AND_MINERALOGY_', 'MUSIC_SOUND_AND_DANCING_') 0.001314060446780552\n",
      "('LIVING_ENTITY_', 'LITERATURE_AND_THEATRE_') 0.001314060446780552\n",
      "('PERSON', 'EMOTIONS_') 0.001314060446780552\n",
      "('PERSON', 'METEOROLOGY_') 0.001314060446780552\n",
      "('CARDINAL', 'MUSIC_SOUND_AND_DANCING_') 0.001314060446780552\n",
      "('CARDINAL', 'OBJECT_') 0.001314060446780552\n",
      "('MATHEMATICS_', 'LIVING_ENTITY_') 0.03679369250985545\n",
      "('CHEMISTRY_AND_MINERALOGY_', 'LIVING_ENTITY_') 0.03679369250985545\n",
      "('EDUCATION_AND_SCIENCE_', 'LANGUAGE_AND_LINGUISTICS_') 0.001314060446780552\n",
      "('EDUCATION_AND_SCIENCE_', 'CULTURE_ANTHROPOLOGY_AND_SOCIETY_') 0.001314060446780552\n",
      "('BUSINESS_ECONOMICS_AND_FINANCE_', 'LANGUAGE_AND_LINGUISTICS_') 0.001314060446780552\n",
      "('BUSINESS_ECONOMICS_AND_FINANCE_', 'CULTURE_ANTHROPOLOGY_AND_SOCIETY_') 0.001314060446780552\n",
      "('ORGANIZATION_', 'CULTURE_ANTHROPOLOGY_AND_SOCIETY_') 0.001314060446780552\n",
      "('LIVING_ENTITY_', 'NUMISMATICS_AND_CURRENCIES_') 0.001314060446780552\n",
      "('NATIONALITIES_OR_RELIGIONS_OR_POLITICAL_GROUPS_', 'PHILOSOPHY_PSYCHOLOGY_AND_BEHAVIOR_') 0.001314060446780552\n",
      "('LIVING_ENTITY_', 'HISTORY_') 0.001314060446780552\n",
      "('TIME', 'FOOD_DRINK_AND_TASTE_') 0.001314060446780552\n",
      "('CRAFT_ENGINEERING_AND_TECHNOLOGY_', 'SPACE_AND_TOUCH_') 0.001314060446780552\n",
      "('CRAFT_ENGINEERING_AND_TECHNOLOGY_', 'HEALTH_AND_MEDICINE_') 0.001314060446780552\n",
      "('LAW_AND_CRIME_', 'SPACE_AND_TOUCH_') 0.001314060446780552\n",
      "('LAW_AND_CRIME_', 'HEALTH_AND_MEDICINE_') 0.001314060446780552\n",
      "('MATHEMATICS_', 'NAUTICAL_') 0.001314060446780552\n",
      "('MATHEMATICS_', 'MEDIA_') 0.002628120893561104\n",
      "('PERSON', 'SPACE_AND_TOUCH_') 0.002628120893561104\n",
      "('NATIONALITIES_OR_RELIGIONS_OR_POLITICAL_GROUPS_', 'TEXTILE_FASHION_AND_CLOTHING_') 0.001314060446780552\n",
      "('NATIONALITIES_OR_RELIGIONS_OR_POLITICAL_GROUPS_', 'TRANSPORT_AND_TRAVEL_') 0.001314060446780552\n",
      "('LIVING_ENTITY_', 'PERSON') 0.006570302233902759\n",
      "('MATHEMATICS_', 'EMOTIONS_') 0.002628120893561104\n",
      "('CHEMISTRY_AND_MINERALOGY_', 'EMOTIONS_') 0.002628120893561104\n",
      "('GENERAL_', 'TEXTILE_FASHION_AND_CLOTHING_') 0.001314060446780552\n",
      "('GENERAL_', 'ART_ARCHITECTURE_AND_ARCHAEOLOGY_') 0.002628120893561104\n",
      "('WARFARE_DEFENSE_AND_VIOLENCE_', 'TEXTILE_FASHION_AND_CLOTHING_') 0.001314060446780552\n",
      "('WARFARE_DEFENSE_AND_VIOLENCE_', 'ART_ARCHITECTURE_AND_ARCHAEOLOGY_') 0.001314060446780552\n",
      "('PERSON', 'ART_ARCHITECTURE_AND_ARCHAEOLOGY_') 0.002628120893561104\n",
      "('BIOLOGY_', 'HEALTH_AND_MEDICINE_') 0.002628120893561104\n",
      "('BIOLOGY_', 'BUSINESS_ECONOMICS_AND_FINANCE_') 0.001314060446780552\n",
      "('POLITICS_GOVERNMENT_AND_NOBILITY_', 'HEALTH_AND_MEDICINE_') 0.001314060446780552\n",
      "('POLITICS_GOVERNMENT_AND_NOBILITY_', 'BUSINESS_ECONOMICS_AND_FINANCE_') 0.001314060446780552\n",
      "('LIVING_ENTITY_', 'TRANSPORT_AND_TRAVEL_') 0.002628120893561104\n",
      "('CARDINAL', 'LITERATURE_AND_THEATRE_') 0.001314060446780552\n",
      "('CARDINAL', 'ART_ARCHITECTURE_AND_ARCHAEOLOGY_') 0.001314060446780552\n",
      "('CULTURE_ANTHROPOLOGY_AND_SOCIETY_', 'GENERAL_') 0.001314060446780552\n",
      "('CULTURE_ANTHROPOLOGY_AND_SOCIETY_', 'EDUCATION_AND_SCIENCE_') 0.001314060446780552\n",
      "('WARFARE_DEFENSE_AND_VIOLENCE_', 'GENERAL_') 0.001314060446780552\n",
      "('WARFARE_DEFENSE_AND_VIOLENCE_', 'EDUCATION_AND_SCIENCE_') 0.001314060446780552\n",
      "('BIOLOGY_', 'CRAFT_ENGINEERING_AND_TECHNOLOGY_') 0.002628120893561104\n",
      "('POLITICS_GOVERNMENT_AND_NOBILITY_', 'CRAFT_ENGINEERING_AND_TECHNOLOGY_') 0.002628120893561104\n",
      "('POLITICS_GOVERNMENT_AND_NOBILITY_', 'MATHEMATICS_') 0.001314060446780552\n",
      "('LIVING_ENTITY_', 'TEXTILE_FASHION_AND_CLOTHING_') 0.00788436268068331\n",
      "('LIVING_ENTITY_', 'MUSIC_SOUND_AND_DANCING_') 0.003942181340341655\n",
      "('PERSON', 'RELIGION_MYSTICISM_AND_MYTHOLOGY_') 0.001314060446780552\n",
      "('LIVING_ENTITY_', 'WARFARE_DEFENSE_AND_VIOLENCE_') 0.00788436268068331\n",
      "('LIVING_ENTITY_', 'COMMUNICATION_AND_TELECOMMUNICATION_') 0.001314060446780552\n",
      "('RELIGION_MYSTICISM_AND_MYTHOLOGY_', 'LIVING_ENTITY_') 0.001314060446780552\n",
      "('BIOLOGY_', 'FOOD_DRINK_AND_TASTE_') 0.001314060446780552\n",
      "('POLITICS_GOVERNMENT_AND_NOBILITY_', 'FOOD_DRINK_AND_TASTE_') 0.001314060446780552\n",
      "('SPACE_AND_TOUCH_', 'BUSINESS_ECONOMICS_AND_FINANCE_') 0.001314060446780552\n",
      "('SPACE_AND_TOUCH_', 'ART_ARCHITECTURE_AND_ARCHAEOLOGY_') 0.001314060446780552\n",
      "('GENERAL_', 'BUSINESS_ECONOMICS_AND_FINANCE_') 0.001314060446780552\n",
      "('LIVING_ENTITY_', 'SPORT_GAMES_AND_RECREATION_') 0.002628120893561104\n",
      "('MATHEMATICS_', 'ART_ARCHITECTURE_AND_ARCHAEOLOGY_') 0.001314060446780552\n",
      "('MATHEMATICS_', 'RELIGION_MYSTICISM_AND_MYTHOLOGY_') 0.003942181340341655\n",
      "('RELIGION_MYSTICISM_AND_MYTHOLOGY_', 'ART_ARCHITECTURE_AND_ARCHAEOLOGY_') 0.001314060446780552\n",
      "('RELIGION_MYSTICISM_AND_MYTHOLOGY_', 'RELIGION_MYSTICISM_AND_MYTHOLOGY_') 0.001314060446780552\n",
      "('MATHEMATICS_', 'TEXTILE_FASHION_AND_CLOTHING_') 0.002628120893561104\n",
      "('CHEMISTRY_AND_MINERALOGY_', 'TEXTILE_FASHION_AND_CLOTHING_') 0.002628120893561104\n",
      "('LIVING_ENTITY_', 'FOOD_DRINK_AND_TASTE_') 0.003942181340341655\n",
      "('PERSON', 'BUSINESS_ECONOMICS_AND_FINANCE_') 0.001314060446780552\n",
      "('PERSON', 'GENERAL_') 0.002628120893561104\n",
      "('LIVING_ENTITY_', 'METEOROLOGY_') 0.003942181340341655\n",
      "('CARDINAL', 'PERSON') 0.001314060446780552\n",
      "('MATHEMATICS_', 'TRANSPORT_AND_TRAVEL_') 0.002628120893561104\n",
      "('CHEMISTRY_AND_MINERALOGY_', 'TRANSPORT_AND_TRAVEL_') 0.002628120893561104\n",
      "('MATHEMATICS_', 'TIME_') 0.001314060446780552\n",
      "('CHEMISTRY_AND_MINERALOGY_', 'TIME_') 0.001314060446780552\n",
      "('CHEMISTRY_AND_MINERALOGY_', 'RELIGION_MYSTICISM_AND_MYTHOLOGY_') 0.002628120893561104\n",
      "('CULTURE_ANTHROPOLOGY_AND_SOCIETY_', 'LIVING_ENTITY_') 0.002628120893561104\n",
      "('PERSON', 'MUSIC_SOUND_AND_DANCING_') 0.001314060446780552\n",
      "('PERSON', 'CRAFT_ENGINEERING_AND_TECHNOLOGY_') 0.001314060446780552\n",
      "('BUSINESS_ECONOMICS_AND_FINANCE_', 'PERSON') 0.001314060446780552\n",
      "('PHILOSOPHY_PSYCHOLOGY_AND_BEHAVIOR_', 'PERSON') 0.001314060446780552\n",
      "('PERSON', 'OBJECT_') 0.001314060446780552\n",
      "('CHEMISTRY_AND_MINERALOGY_', 'WARFARE_DEFENSE_AND_VIOLENCE_') 0.001314060446780552\n",
      "('MATHEMATICS_', 'CHEMISTRY_AND_MINERALOGY_') 0.001314060446780552\n",
      "('CHEMISTRY_AND_MINERALOGY_', 'CHEMISTRY_AND_MINERALOGY_') 0.001314060446780552\n",
      "('PERSON', 'LIVING_ENTITY_') 0.006570302233902759\n",
      "('BIOLOGY_', 'LIVING_ENTITY_') 0.002628120893561104\n",
      "('TEXTILE_FASHION_AND_CLOTHING_', 'LIVING_ENTITY_') 0.001314060446780552\n",
      "('MATHEMATICS_', 'METEOROLOGY_') 0.001314060446780552\n",
      "('MATHEMATICS_', 'GEOLOGY_AND_GEOPHYSICS_') 0.001314060446780552\n",
      "('CHEMISTRY_AND_MINERALOGY_', 'METEOROLOGY_') 0.001314060446780552\n",
      "('CHEMISTRY_AND_MINERALOGY_', 'GEOLOGY_AND_GEOPHYSICS_') 0.001314060446780552\n",
      "('PERSON', 'NAUTICAL_') 0.001314060446780552\n",
      "('LIVING_ENTITY_', 'NAUTICAL_') 0.001314060446780552\n",
      "('CULTURE_ANTHROPOLOGY_AND_SOCIETY_', 'BIOLOGY_') 0.001314060446780552\n",
      "('CULTURE_ANTHROPOLOGY_AND_SOCIETY_', 'HEALTH_AND_MEDICINE_') 0.001314060446780552\n",
      "('CARDINAL', 'LIVING_ENTITY_') 0.002628120893561104\n",
      "('CULTURE_ANTHROPOLOGY_AND_SOCIETY_', 'PHILOSOPHY_PSYCHOLOGY_AND_BEHAVIOR_') 0.002628120893561104\n",
      "('BIOLOGY_', 'PHILOSOPHY_PSYCHOLOGY_AND_BEHAVIOR_') 0.001314060446780552\n",
      "('POLITICS_GOVERNMENT_AND_NOBILITY_', 'PHILOSOPHY_PSYCHOLOGY_AND_BEHAVIOR_') 0.001314060446780552\n",
      "('ORGANIZATION_', 'PERSON') 0.001314060446780552\n",
      "('PERSON', 'LANGUAGE_AND_LINGUISTICS_') 0.001314060446780552\n",
      "('CARDINAL', 'GENERAL_') 0.001314060446780552\n",
      "('CARDINAL', 'RELIGION_MYSTICISM_AND_MYTHOLOGY_') 0.001314060446780552\n",
      "('CHEMISTRY_AND_MINERALOGY_', 'VISUAL_') 0.001314060446780552\n",
      "('CHEMISTRY_AND_MINERALOGY_', 'MEDIA_') 0.001314060446780552\n"
     ]
    }
   ],
   "source": [
    "total_occurrences = sum(sem_type_combinations.values())\n",
    "\n",
    "sem_type_probabilities = {sem_type_comb: comb_freq / total_occurrences for sem_type_comb, comb_freq in sem_type_combinations.items()}\n",
    "for sem_type, prob in sem_type_probabilities.items():\n",
    "    print(sem_type, prob)"
   ],
   "metadata": {
    "collapsed": false,
    "ExecuteTime": {
     "end_time": "2024-04-23T14:33:54.203370200Z",
     "start_time": "2024-04-23T14:33:54.183999100Z"
    }
   },
   "id": "e987b0c9a80682c2"
  },
  {
   "cell_type": "markdown",
   "source": [
    "Get the 10 most likely semantic type clusters (semantic type combinations)"
   ],
   "metadata": {
    "collapsed": false
   },
   "id": "6e87758f5dc2e44b"
  },
  {
   "cell_type": "code",
   "execution_count": 109,
   "outputs": [],
   "source": [
    "most_likely_sem_type_clusters = dict(sorted(sem_type_probabilities.items(), key=lambda x: x[1], reverse=True))"
   ],
   "metadata": {
    "collapsed": false,
    "ExecuteTime": {
     "end_time": "2024-04-23T14:33:54.287662500Z",
     "start_time": "2024-04-23T14:33:54.199370300Z"
    }
   },
   "id": "f25d4c97981839af"
  },
  {
   "cell_type": "markdown",
   "source": [
    "Plot the probability distribution of most likely semantic type clusters"
   ],
   "metadata": {
    "collapsed": false
   },
   "id": "91b750db4d7a7fbb"
  },
  {
   "cell_type": "code",
   "execution_count": 110,
   "outputs": [
    {
     "data": {
      "text/plain": "<Figure size 640x480 with 1 Axes>",
      "image/png": "[encoded data removed]"
     },
     "metadata": {},
     "output_type": "display_data"
    }
   ],
   "source": [
    "plt.bar(range(10), list(most_likely_sem_type_clusters.values())[:10], align='center', width=0.5)\n",
    "plt.xticks(range(10), list(most_likely_sem_type_clusters.keys())[:10], rotation='vertical')\n",
    "plt.ylabel('Probability')\n",
    "plt.show()"
   ],
   "metadata": {
    "collapsed": false,
    "ExecuteTime": {
     "end_time": "2024-04-23T14:33:54.364662700Z",
     "start_time": "2024-04-23T14:33:54.216385900Z"
    }
   },
   "id": "3824756cf215716f"
  }
 ],
 "metadata": {
  "kernelspec": {
   "display_name": "Python 3",
   "language": "python",
   "name": "python3"
  },
  "language_info": {
   "codemirror_mode": {
    "name": "ipython",
    "version": 2
   },
   "file_extension": ".py",
   "mimetype": "text/x-python",
   "name": "python",
   "nbconvert_exporter": "python",
   "pygments_lexer": "ipython2",
   "version": "2.7.6"
  }
 },
 "nbformat": 4,
 "nbformat_minor": 5
}
