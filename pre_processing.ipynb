{
 "cells": [
  {
   "cell_type": "markdown",
   "source": [
    "In this notebook we do the pre-processing necessary to implement a small application of Hanks valence theory.\n",
    "\n",
    "The steps are:\n",
    "1. Extract sentences that contain the verb \"see\" or one of its forms (saw, seen, ...).\n",
    "2. For each sentence, extract the subject and object of the verb \"see\".\n",
    "3. Save the subject-object pairs in a CSV file."
   ],
   "metadata": {
    "collapsed": false
   },
   "id": "87b7fd79bb48dbbe"
  },
  {
   "cell_type": "code",
   "outputs": [
    {
     "name": "stdout",
     "output_type": "stream",
     "text": [
      "\u001B[38;5;2m✔ Download and installation successful\u001B[0m\n",
      "You can now load the package via spacy.load('en_core_web_md')\n",
      "\u001B[38;5;3m⚠ Restart to reload dependencies\u001B[0m\n",
      "If you are in a Jupyter or Colab notebook, you may need to restart Python in\n",
      "order to load all the package's dependencies. You can do this by selecting the\n",
      "'Restart kernel' or 'Restart runtime' option.\n"
     ]
    },
    {
     "name": "stderr",
     "output_type": "stream",
     "text": [
      "[nltk_data] Downloading package brown to\n",
      "[nltk_data]     C:\\Users\\Gianl\\AppData\\Roaming\\nltk_data...\n",
      "[nltk_data]   Package brown is already up-to-date!\n"
     ]
    },
    {
     "data": {
      "text/plain": "True"
     },
     "execution_count": 8,
     "metadata": {},
     "output_type": "execute_result"
    }
   ],
   "source": [
    "import nltk\n",
    "from nltk.corpus import brown\n",
    "import spacy\n",
    "\n",
    "spacy.cli.download(\"en_core_web_md\")\n",
    "nlp = spacy.load(\"en_core_web_md\")\n",
    "nltk.download('brown')"
   ],
   "metadata": {
    "collapsed": false,
    "ExecuteTime": {
     "end_time": "2024-04-23T14:13:12.176125200Z",
     "start_time": "2024-04-23T14:13:08.706998600Z"
    }
   },
   "id": "66203575140650a2",
   "execution_count": 8
  },
  {
   "cell_type": "markdown",
   "source": [
    "### 1. Extract sentences that contain the verb \"see\"\n",
    "\n",
    "We look for sentences in the Brown Corpus that contain the verb \"see\" or one of its forms."
   ],
   "metadata": {
    "collapsed": false
   },
   "id": "a4a0cec55a60b705"
  },
  {
   "cell_type": "code",
   "outputs": [
    {
     "name": "stdout",
     "output_type": "stream",
     "text": [
      "[\"`` This is one of the major items in the Fulton County general assistance program '' , the jury said , but the State Welfare Department `` has seen fit to distribute these funds through the welfare departments of all the counties in the state with the exception of Fulton County , which receives none of this money .\", \"Barber , who is in his 13th year as a legislator , said there `` are some members of our congressional delegation in Washington who would like to see it ( the resolution ) passed '' .\", \"-- After a long , hot controversy , Miller County has a new school superintendent , elected , as a policeman put it , in the `` coolest election I ever saw in this county '' .\", \"`` This was the coolest , calmest election I ever saw '' , Colquitt Policeman Tom Williams said .\", 'It does not take a Gallup poll to find out that most Republicans in Congress feel this understates the situation as Republicans see it .']\n"
     ]
    }
   ],
   "source": [
    "sentences_with_see = []\n",
    "see_forms = [\"see\", \"saw\", \"seen\", \"sees\"]\n",
    "\n",
    "# search through the sentences in the Brown Corpus\n",
    "for sentence in brown.sents():\n",
    "    if any(form in sentence for form in see_forms):\n",
    "        sentences_with_see.append(\" \".join(sentence))\n",
    "\n",
    "print(sentences_with_see[:5])"
   ],
   "metadata": {
    "collapsed": false,
    "ExecuteTime": {
     "end_time": "2024-04-23T14:13:13.701111Z",
     "start_time": "2024-04-23T14:13:12.176125200Z"
    }
   },
   "id": "95854ff8b7b45750",
   "execution_count": 9
  },
  {
   "cell_type": "markdown",
   "source": [
    "### 2. Extract the subject and object of the verb \"see\" for each sentence"
   ],
   "metadata": {
    "collapsed": false
   },
   "id": "e8eb92c55b6c26fa"
  },
  {
   "cell_type": "code",
   "outputs": [],
   "source": [
    "def find_subject_object(sentence: str) -> tuple[str, str] | None:\n",
    "    \"\"\"\n",
    "    Find the subject and object of the verb \"see\" in a sentence containing the verb.\n",
    "    :param sentence: The sentence containing the verb \"see\" or one of its forms.\n",
    "    :return: A tuple containing the subject and object of the verb \"see\", or None if the verb is not found.\n",
    "    \"\"\"\n",
    "    # process the sentence\n",
    "    doc = nlp(sentence)\n",
    "    \n",
    "    for token in doc:\n",
    "        # find the verb \"see\", considering all its forms by checking the lemma\n",
    "        if token.lemma_ == \"see\":\n",
    "            subject = None\n",
    "            obj = None\n",
    "            \n",
    "            # check if the token's head is our verb of interest\n",
    "            for child in token.children:\n",
    "                # identify the subject\n",
    "                if child.dep_ in [\"nsubj\", \"nsubjpass\"]: # nominal subject or passive nominal subject\n",
    "                    subject = child.text\n",
    "                # identify the object\n",
    "                elif child.dep_ in [\"dobj\", \"pobj\"]: # direct object or object of preposition\n",
    "                    obj = child.text\n",
    "            \n",
    "            return subject, obj\n",
    "\n",
    "    # Return None if the verb \"see\" is not found\n",
    "    return None"
   ],
   "metadata": {
    "collapsed": false,
    "ExecuteTime": {
     "end_time": "2024-04-23T14:13:13.744670300Z",
     "start_time": "2024-04-23T14:13:13.705114500Z"
    }
   },
   "id": "7a3513c9115d26d1",
   "execution_count": 10
  },
  {
   "cell_type": "markdown",
   "source": [
    "Quick test on example sentences"
   ],
   "metadata": {
    "collapsed": false
   },
   "id": "d71a8c1cdd3f644e"
  },
  {
   "cell_type": "code",
   "execution_count": 11,
   "outputs": [
    {
     "name": "stdout",
     "output_type": "stream",
     "text": [
      "Sentence: \"My dog sees the cat.\" - Subject: dog, Object: cat\n",
      "Sentence: \"You see him.\" - Subject: You, Object: him\n"
     ]
    }
   ],
   "source": [
    "# Example sentences\n",
    "sentences = [\"My dog sees the cat.\", \"You see him.\"]\n",
    "\n",
    "for sentence in sentences:\n",
    "    subject, obj = find_subject_object(sentence)\n",
    "    if subject and obj:\n",
    "        print(f\"Sentence: \\\"{sentence}\\\" - Subject: {subject}, Object: {obj}\")\n",
    "    else:\n",
    "        print(f\"Sentence: \\\"{sentence}\\\" does not contain the verb 'see' with a clear subject and object.\")"
   ],
   "metadata": {
    "collapsed": false,
    "ExecuteTime": {
     "end_time": "2024-04-23T14:13:13.763690100Z",
     "start_time": "2024-04-23T14:13:13.721111100Z"
    }
   },
   "id": "a2114ce132aa971c"
  },
  {
   "cell_type": "markdown",
   "source": [
    "For each sentence containing the verb \"see\" or one of its forms (from Brown Corpus), we extract the subject and object of the verb."
   ],
   "metadata": {
    "collapsed": false
   },
   "id": "376bf521a1c8f46"
  },
  {
   "cell_type": "code",
   "outputs": [],
   "source": [
    "sub_obj_pairs = []\n",
    "\n",
    "for sentence in sentences_with_see:\n",
    "    sub, obj = find_subject_object(sentence)\n",
    "    if sub and obj:\n",
    "        sub_obj_pairs.append((sub, obj))"
   ],
   "metadata": {
    "collapsed": false,
    "ExecuteTime": {
     "end_time": "2024-04-23T14:13:21.799689200Z",
     "start_time": "2024-04-23T14:13:13.756726Z"
    }
   },
   "id": "6f7a47231fa963f0",
   "execution_count": 12
  },
  {
   "cell_type": "code",
   "outputs": [
    {
     "name": "stdout",
     "output_type": "stream",
     "text": [
      "475\n",
      "('Republicans', 'it')\n",
      "('You', 'signs')\n",
      "('Democrats', 'opportunity')\n",
      "('they', 'approach')\n",
      "('year', 'cleaning')\n",
      "('you', 'headline')\n",
      "('players', 'film')\n",
      "('who', 'sights')\n",
      "('I', 'it')\n",
      "('Analysts', 'move')\n"
     ]
    }
   ],
   "source": [
    "print(len(sub_obj_pairs))\n",
    "\n",
    "for pair in sub_obj_pairs[:10]:\n",
    "    print(pair)"
   ],
   "metadata": {
    "collapsed": false,
    "ExecuteTime": {
     "end_time": "2024-04-23T14:13:21.823693900Z",
     "start_time": "2024-04-23T14:13:21.803749100Z"
    }
   },
   "id": "e92b97e865e8097c",
   "execution_count": 13
  },
  {
   "cell_type": "markdown",
   "source": [
    "### 3. Save the subject-object pairs in a CSV file"
   ],
   "metadata": {
    "collapsed": false
   },
   "id": "24b03187722ece24"
  },
  {
   "cell_type": "code",
   "outputs": [],
   "source": [
    "import csv\n",
    "\n",
    "# newline=\"\\n\" is necessary to avoid blank lines between rows, otherwise the CSV writes new lines as \"\\r\\n\" because this is the default new line character in Windows\n",
    "with open(\"res/see_sub_obj_pairs.csv\", \"w\", newline=\"\\n\") as f: \n",
    "    writer = csv.writer(f)\n",
    "    writer.writerow([\"subject\", \"object\"])\n",
    "    writer.writerows(sub_obj_pairs)"
   ],
   "metadata": {
    "collapsed": false,
    "ExecuteTime": {
     "end_time": "2024-04-23T14:13:21.859105300Z",
     "start_time": "2024-04-23T14:13:21.817692Z"
    }
   },
   "id": "8f893a8f6b92ca37",
   "execution_count": 14
  }
 ],
 "metadata": {
  "kernelspec": {
   "display_name": "Python 3",
   "language": "python",
   "name": "python3"
  },
  "language_info": {
   "codemirror_mode": {
    "name": "ipython",
    "version": 2
   },
   "file_extension": ".py",
   "mimetype": "text/x-python",
   "name": "python",
   "nbconvert_exporter": "python",
   "pygments_lexer": "ipython2",
   "version": "2.7.6"
  }
 },
 "nbformat": 4,
 "nbformat_minor": 5
}
