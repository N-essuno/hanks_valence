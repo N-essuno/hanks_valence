{
 "cells": [
  {
   "cell_type": "raw",
   "source": [],
   "metadata": {
    "collapsed": false
   },
   "id": "351a95eddae4ecdc"
  },
  {
   "cell_type": "markdown",
   "source": [
    "In this notebook we do the pre processing necessary to implement a small application of Hanks valence theory.\n",
    "\n",
    "The steps are:\n",
    "1. Extract sentences that contain the verb \"see\" or one of its forms (saw, seen, ...).\n",
    "2. For each sentence, extract the subject and object of the verb \"see\".\n",
    "3. Save the subject-object pairs in a CSV file."
   ],
   "metadata": {
    "collapsed": false
   },
   "id": "87b7fd79bb48dbbe"
  },
  {
   "cell_type": "code",
   "outputs": [
    {
     "name": "stdout",
     "output_type": "stream",
     "text": [
      "\u001B[38;5;2m✔ Download and installation successful\u001B[0m\n",
      "You can now load the package via spacy.load('en_core_web_sm')\n",
      "\u001B[38;5;3m⚠ Restart to reload dependencies\u001B[0m\n",
      "If you are in a Jupyter or Colab notebook, you may need to restart Python in\n",
      "order to load all the package's dependencies. You can do this by selecting the\n",
      "'Restart kernel' or 'Restart runtime' option.\n"
     ]
    },
    {
     "name": "stderr",
     "output_type": "stream",
     "text": [
      "[nltk_data] Downloading package brown to\n",
      "[nltk_data]     C:\\Users\\amato\\AppData\\Roaming\\nltk_data...\n",
      "[nltk_data]   Package brown is already up-to-date!\n"
     ]
    },
    {
     "data": {
      "text/plain": "True"
     },
     "execution_count": 1,
     "metadata": {},
     "output_type": "execute_result"
    }
   ],
   "source": [
    "import nltk\n",
    "from nltk.corpus import brown\n",
    "import spacy\n",
    "\n",
    "spacy.cli.download(\"en_core_web_sm\")\n",
    "nlp = spacy.load(\"en_core_web_sm\")\n",
    "nltk.download('brown')"
   ],
   "metadata": {
    "collapsed": false,
    "ExecuteTime": {
     "end_time": "2024-04-10T09:34:46.101956Z",
     "start_time": "2024-04-10T09:34:34.785919Z"
    }
   },
   "id": "66203575140650a2",
   "execution_count": 1
  },
  {
   "cell_type": "markdown",
   "source": [
    "# 1. Extract sentences that contain the verb \"see\""
   ],
   "metadata": {
    "collapsed": false
   },
   "id": "a4a0cec55a60b705"
  },
  {
   "cell_type": "code",
   "outputs": [
    {
     "name": "stdout",
     "output_type": "stream",
     "text": [
      "[\"`` This is one of the major items in the Fulton County general assistance program '' , the jury said , but the State Welfare Department `` has seen fit to distribute these funds through the welfare departments of all the counties in the state with the exception of Fulton County , which receives none of this money .\", \"Barber , who is in his 13th year as a legislator , said there `` are some members of our congressional delegation in Washington who would like to see it ( the resolution ) passed '' .\", \"-- After a long , hot controversy , Miller County has a new school superintendent , elected , as a policeman put it , in the `` coolest election I ever saw in this county '' .\", \"`` This was the coolest , calmest election I ever saw '' , Colquitt Policeman Tom Williams said .\", 'It does not take a Gallup poll to find out that most Republicans in Congress feel this understates the situation as Republicans see it .']\n"
     ]
    }
   ],
   "source": [
    "sentences_with_see = []\n",
    "see_forms = [\"see\", \"saw\", \"seen\", \"sees\"]\n",
    "\n",
    "# Search through the sentences in the Brown Corpus\n",
    "for sentence in brown.sents():\n",
    "    if any(form in sentence for form in see_forms):\n",
    "        sentences_with_see.append(\" \".join(sentence))\n",
    "\n",
    "print(sentences_with_see[:5])"
   ],
   "metadata": {
    "collapsed": false,
    "ExecuteTime": {
     "end_time": "2024-04-10T09:34:48.059346Z",
     "start_time": "2024-04-10T09:34:46.103969Z"
    }
   },
   "id": "95854ff8b7b45750",
   "execution_count": 2
  },
  {
   "cell_type": "code",
   "outputs": [
    {
     "name": "stdout",
     "output_type": "stream",
     "text": [
      "Sentence: \"My dog sees the cat.\" - Subject: dog, Object: cat\n",
      "Sentence: \"You see him.\" - Subject: You, Object: him\n"
     ]
    }
   ],
   "source": [
    "def find_subject_object(sentence):\n",
    "    # Process the sentence\n",
    "    doc = nlp(sentence)\n",
    "    \n",
    "    for token in doc:\n",
    "        # Find the verb \"see\"\n",
    "        if token.lemma_ == \"see\":\n",
    "            subject = None\n",
    "            obj = None\n",
    "            \n",
    "            # Check if the token's head is our verb of interest\n",
    "            for child in token.children:\n",
    "                # Identify the subject\n",
    "                if child.dep_ in [\"nsubj\", \"nsubjpass\"]:\n",
    "                    subject = child.text\n",
    "                # Identify the object\n",
    "                elif child.dep_ in [\"dobj\", \"pobj\"]:\n",
    "                    obj = child.text\n",
    "            \n",
    "            return subject, obj\n",
    "\n",
    "    # Return None if the verb \"see\" is not found\n",
    "    return None, None\n",
    "\n",
    "# Example sentences\n",
    "sentences = [\"My dog sees the cat.\", \"You see him.\"]\n",
    "\n",
    "for sentence in sentences:\n",
    "    subject, obj = find_subject_object(sentence)\n",
    "    if subject and obj:\n",
    "        print(f\"Sentence: \\\"{sentence}\\\" - Subject: {subject}, Object: {obj}\")\n",
    "    else:\n",
    "        print(f\"Sentence: \\\"{sentence}\\\" does not contain the verb 'see' with a clear subject and object.\")"
   ],
   "metadata": {
    "collapsed": false,
    "ExecuteTime": {
     "end_time": "2024-04-10T09:34:48.090842Z",
     "start_time": "2024-04-10T09:34:48.061045Z"
    }
   },
   "id": "a2114ce132aa971c",
   "execution_count": 3
  },
  {
   "cell_type": "markdown",
   "source": [
    "# 2. Extract the subject and object of the verb \"see\" for each sentence"
   ],
   "metadata": {
    "collapsed": false
   },
   "id": "20684e85eda4d32e"
  },
  {
   "cell_type": "code",
   "outputs": [],
   "source": [
    "sub_obj_pairs = []\n",
    "\n",
    "for sentence in sentences_with_see:\n",
    "    sub, obj = find_subject_object(sentence)\n",
    "    if sub and obj:\n",
    "        sub_obj_pairs.append((sub, obj))"
   ],
   "metadata": {
    "collapsed": false,
    "ExecuteTime": {
     "end_time": "2024-04-10T09:35:01.188763Z",
     "start_time": "2024-04-10T09:34:48.093338Z"
    }
   },
   "id": "6f7a47231fa963f0",
   "execution_count": 4
  },
  {
   "cell_type": "code",
   "outputs": [
    {
     "name": "stdout",
     "output_type": "stream",
     "text": [
      "476\n",
      "('Republicans', 'it')\n",
      "('You', 'signs')\n",
      "('Democrats', 'opportunity')\n",
      "('which', 'soldiers')\n",
      "('they', 'approach')\n",
      "('year', 'cleaning')\n",
      "('you', 'headline')\n",
      "('players', 'film')\n",
      "('who', 'sights')\n",
      "('I', 'it')\n",
      "('Analysts', 'move')\n",
      "('Don', 'chum')\n",
      "('Kennedy', 'value')\n",
      "('we', 'it')\n",
      "('members', 'it')\n",
      "('he', 'chance')\n",
      "('Investors', 'element')\n",
      "('settlers', 'them')\n",
      "('regime', 'problems')\n",
      "('who', 'justice')\n",
      "('you', 'land')\n",
      "('you', 'what')\n",
      "('he', 'upturn')\n",
      "('He', 'plan')\n",
      "('Podger', 'feather')\n",
      "('driver', 'turtle')\n",
      "('who', 'eye')\n",
      "('we', 'convicts')\n",
      "('public', 'wagon')\n",
      "('majority', 'party')\n",
      "('you', 'situation')\n",
      "('I', 'it')\n",
      "('John', 'renewal')\n",
      "('world', 'Catholicism')\n",
      "('who', 'relation')\n",
      "('We', 'nation')\n",
      "('I', 'mention')\n",
      "('We', 'enough')\n",
      "('Chicago', 'Ballet')\n",
      "('Russians', 'vitality')\n",
      "('I', 'Fiorello')\n",
      "('you', 'picture')\n",
      "('Low', 'stupidities')\n",
      "('You', 'tendency')\n",
      "('I', 'Jouvet')\n",
      "('who', 'Seigner')\n",
      "('he', 'what')\n",
      "('we', 'him')\n",
      "('flower', 'indoors')\n",
      "('Clerfayt', 'volcano')\n"
     ]
    }
   ],
   "source": [
    "print(len(sub_obj_pairs))\n",
    "\n",
    "for pair in sub_obj_pairs[:50]:\n",
    "    print(pair)"
   ],
   "metadata": {
    "collapsed": false,
    "ExecuteTime": {
     "end_time": "2024-04-10T09:35:01.204124Z",
     "start_time": "2024-04-10T09:35:01.191840Z"
    }
   },
   "id": "e92b97e865e8097c",
   "execution_count": 5
  },
  {
   "cell_type": "markdown",
   "source": [
    "# 3. Save the subject-object pairs in a CSV file"
   ],
   "metadata": {
    "collapsed": false
   },
   "id": "24b03187722ece24"
  },
  {
   "cell_type": "code",
   "outputs": [],
   "source": [
    "# save pairs found in res/see_sub_obj_pairs.csv\n",
    "import csv\n",
    "\n",
    "# newline=\"\\n\" is necessary to avoid blank lines between rows, otherwise the CSV writes new lines as \"\\r\\n\" because \n",
    "# this is the default new line character in Windows\n",
    "with open(\"res/see_sub_obj_pairs.csv\", \"w\", newline=\"\\n\") as f: \n",
    "    writer = csv.writer(f)\n",
    "    writer.writerow([\"Subject\", \"Object\"])\n",
    "    writer.writerows(sub_obj_pairs)"
   ],
   "metadata": {
    "collapsed": false,
    "ExecuteTime": {
     "end_time": "2024-04-10T09:41:43.326906Z",
     "start_time": "2024-04-10T09:41:43.317773Z"
    }
   },
   "id": "8f893a8f6b92ca37",
   "execution_count": 10
  }
 ],
 "metadata": {
  "kernelspec": {
   "display_name": "Python 3",
   "language": "python",
   "name": "python3"
  },
  "language_info": {
   "codemirror_mode": {
    "name": "ipython",
    "version": 2
   },
   "file_extension": ".py",
   "mimetype": "text/x-python",
   "name": "python",
   "nbconvert_exporter": "python",
   "pygments_lexer": "ipython2",
   "version": "2.7.6"
  }
 },
 "nbformat": 4,
 "nbformat_minor": 5
}
